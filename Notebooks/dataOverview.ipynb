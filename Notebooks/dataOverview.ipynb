{
 "cells": [
  {
   "cell_type": "markdown",
   "id": "4305772e-efeb-4031-9585-a0bfebf90d25",
   "metadata": {},
   "source": [
    "# Credit Card Data Overview"
   ]
  },
  {
   "cell_type": "code",
   "execution_count": 1,
   "id": "05572310-11a3-4377-bed6-7a1db494d7e6",
   "metadata": {},
   "outputs": [],
   "source": [
    "# Where the data comes from\n",
    "# https://www.kaggle.com/datasets/mlg-ulb/creditcardfraud/data"
   ]
  },
  {
   "cell_type": "code",
   "execution_count": 2,
   "id": "36c8f72e-4fa6-47ca-9e08-2a030f4daf27",
   "metadata": {},
   "outputs": [
    {
     "name": "stdout",
     "output_type": "stream",
     "text": [
      "Requirement already satisfied: seaborn in /opt/anaconda3/lib/python3.12/site-packages (0.13.2)\n",
      "Requirement already satisfied: numpy!=1.24.0,>=1.20 in /opt/anaconda3/lib/python3.12/site-packages (from seaborn) (1.26.4)\n",
      "Requirement already satisfied: pandas>=1.2 in /opt/anaconda3/lib/python3.12/site-packages (from seaborn) (2.2.2)\n",
      "Requirement already satisfied: matplotlib!=3.6.1,>=3.4 in /opt/anaconda3/lib/python3.12/site-packages (from seaborn) (3.8.4)\n",
      "Requirement already satisfied: contourpy>=1.0.1 in /opt/anaconda3/lib/python3.12/site-packages (from matplotlib!=3.6.1,>=3.4->seaborn) (1.2.0)\n",
      "Requirement already satisfied: cycler>=0.10 in /opt/anaconda3/lib/python3.12/site-packages (from matplotlib!=3.6.1,>=3.4->seaborn) (0.11.0)\n",
      "Requirement already satisfied: fonttools>=4.22.0 in /opt/anaconda3/lib/python3.12/site-packages (from matplotlib!=3.6.1,>=3.4->seaborn) (4.51.0)\n",
      "Requirement already satisfied: kiwisolver>=1.3.1 in /opt/anaconda3/lib/python3.12/site-packages (from matplotlib!=3.6.1,>=3.4->seaborn) (1.4.4)\n",
      "Requirement already satisfied: packaging>=20.0 in /opt/anaconda3/lib/python3.12/site-packages (from matplotlib!=3.6.1,>=3.4->seaborn) (23.2)\n",
      "Requirement already satisfied: pillow>=8 in /opt/anaconda3/lib/python3.12/site-packages (from matplotlib!=3.6.1,>=3.4->seaborn) (10.3.0)\n",
      "Requirement already satisfied: pyparsing>=2.3.1 in /opt/anaconda3/lib/python3.12/site-packages (from matplotlib!=3.6.1,>=3.4->seaborn) (3.0.9)\n",
      "Requirement already satisfied: python-dateutil>=2.7 in /opt/anaconda3/lib/python3.12/site-packages (from matplotlib!=3.6.1,>=3.4->seaborn) (2.9.0.post0)\n",
      "Requirement already satisfied: pytz>=2020.1 in /opt/anaconda3/lib/python3.12/site-packages (from pandas>=1.2->seaborn) (2024.1)\n",
      "Requirement already satisfied: tzdata>=2022.7 in /opt/anaconda3/lib/python3.12/site-packages (from pandas>=1.2->seaborn) (2023.3)\n",
      "Requirement already satisfied: six>=1.5 in /opt/anaconda3/lib/python3.12/site-packages (from python-dateutil>=2.7->matplotlib!=3.6.1,>=3.4->seaborn) (1.16.0)\n",
      "Requirement already satisfied: plotly in /opt/anaconda3/lib/python3.12/site-packages (5.22.0)\n",
      "Requirement already satisfied: tenacity>=6.2.0 in /opt/anaconda3/lib/python3.12/site-packages (from plotly) (8.2.2)\n",
      "Requirement already satisfied: packaging in /opt/anaconda3/lib/python3.12/site-packages (from plotly) (23.2)\n"
     ]
    }
   ],
   "source": [
    "!pip install seaborn\n",
    "!pip install plotly"
   ]
  },
  {
   "cell_type": "code",
   "execution_count": 3,
   "id": "4734e8b5-2d8a-49d8-9857-e3ed46560cff",
   "metadata": {},
   "outputs": [],
   "source": [
    "import pandas as pd # used for data manipulation and modification\n",
    "import numpy as np\n",
    "from matplotlib import pyplot as plt # plotting library\n",
    "import seaborn as sns # data visualization library\n",
    "import plotly.express as px # for interactive plots\n",
    "from sklearn.preprocessing import StandardScaler # for scaling the data\n",
    "from sklearn.model_selection import train_test_split# for splitting the data into training and testing sets\n",
    "from sklearn.ensemble import RandomForestClassifier\n",
    "from sklearn.metrics import classification_report, confusion_matrix\n",
    "from sklearn.model_selection import cross_val_score,cross_validate\n",
    "\n",
    "# Makes sure the graphs show in this window, not a new one\n",
    "%matplotlib inline "
   ]
  },
  {
   "cell_type": "code",
   "execution_count": 4,
   "id": "925c0be6-b001-48bc-a8ea-cd0ca2dded55",
   "metadata": {},
   "outputs": [],
   "source": [
    "# Make sure to place creditcard.csv in the Data folder\n",
    "df = pd.read_csv(r\"../Data/creditcard.csv\",engine='python')"
   ]
  },
  {
   "cell_type": "code",
   "execution_count": 5,
   "id": "f63db328-8d7f-44cd-9ef8-52d65f0b2cfa",
   "metadata": {},
   "outputs": [],
   "source": [
    "# Data Overview\n",
    "    # Features V1, V2, … V28 are the principal components obtained with PCA, the only features \n",
    "    # which have not been transformed with PCA are 'Time' and 'Amount'. Feature 'Time' contains the seconds \n",
    "    # elapsed between each transaction and the first transaction in the dataset. The feature 'Amount' is \n",
    "    # the transaction Amount, this feature can be used for example-dependant cost-sensitive learning. \n",
    "    # Feature 'Class' is the response variable and it takes value 1 in case of fraud and 0 otherwise."
   ]
  },
  {
   "cell_type": "code",
   "execution_count": 6,
   "id": "791fa579-7df5-4d13-96a5-8d40debfe4c6",
   "metadata": {},
   "outputs": [
    {
     "name": "stdout",
     "output_type": "stream",
     "text": [
      "<class 'pandas.core.frame.DataFrame'>\n",
      "RangeIndex: 284807 entries, 0 to 284806\n",
      "Data columns (total 31 columns):\n",
      " #   Column  Non-Null Count   Dtype  \n",
      "---  ------  --------------   -----  \n",
      " 0   Time    284807 non-null  float64\n",
      " 1   V1      284807 non-null  float64\n",
      " 2   V2      284807 non-null  float64\n",
      " 3   V3      284807 non-null  float64\n",
      " 4   V4      284807 non-null  float64\n",
      " 5   V5      284807 non-null  float64\n",
      " 6   V6      284807 non-null  float64\n",
      " 7   V7      284807 non-null  float64\n",
      " 8   V8      284807 non-null  float64\n",
      " 9   V9      284807 non-null  float64\n",
      " 10  V10     284807 non-null  float64\n",
      " 11  V11     284807 non-null  float64\n",
      " 12  V12     284807 non-null  float64\n",
      " 13  V13     284807 non-null  float64\n",
      " 14  V14     284807 non-null  float64\n",
      " 15  V15     284807 non-null  float64\n",
      " 16  V16     284807 non-null  float64\n",
      " 17  V17     284807 non-null  float64\n",
      " 18  V18     284807 non-null  float64\n",
      " 19  V19     284807 non-null  float64\n",
      " 20  V20     284807 non-null  float64\n",
      " 21  V21     284807 non-null  float64\n",
      " 22  V22     284807 non-null  float64\n",
      " 23  V23     284807 non-null  float64\n",
      " 24  V24     284807 non-null  float64\n",
      " 25  V25     284807 non-null  float64\n",
      " 26  V26     284807 non-null  float64\n",
      " 27  V27     284807 non-null  float64\n",
      " 28  V28     284807 non-null  float64\n",
      " 29  Amount  284807 non-null  float64\n",
      " 30  Class   284807 non-null  int64  \n",
      "dtypes: float64(30), int64(1)\n",
      "memory usage: 67.4 MB\n"
     ]
    }
   ],
   "source": [
    "# Info about our data and their types\n",
    "df.info()"
   ]
  },
  {
   "cell_type": "code",
   "execution_count": 7,
   "id": "2ab70e28-c535-4a77-8f15-c3024a27995f",
   "metadata": {},
   "outputs": [
    {
     "name": "stdout",
     "output_type": "stream",
     "text": [
      "Row Count: 284807\n",
      "Col Count: 31\n"
     ]
    }
   ],
   "source": [
    "# How much data are we working with\n",
    "print(\"Row Count:\", df.shape[0]) # Number or rows\n",
    "print(\"Col Count:\", df.shape[1]) # Num Cols"
   ]
  },
  {
   "cell_type": "code",
   "execution_count": 8,
   "id": "1f6a88dd-310e-409e-b485-49069698df66",
   "metadata": {},
   "outputs": [
    {
     "data": {
      "text/html": [
       "<div>\n",
       "<style scoped>\n",
       "    .dataframe tbody tr th:only-of-type {\n",
       "        vertical-align: middle;\n",
       "    }\n",
       "\n",
       "    .dataframe tbody tr th {\n",
       "        vertical-align: top;\n",
       "    }\n",
       "\n",
       "    .dataframe thead th {\n",
       "        text-align: right;\n",
       "    }\n",
       "</style>\n",
       "<table border=\"1\" class=\"dataframe\">\n",
       "  <thead>\n",
       "    <tr style=\"text-align: right;\">\n",
       "      <th></th>\n",
       "      <th>Time</th>\n",
       "      <th>V1</th>\n",
       "      <th>V2</th>\n",
       "      <th>V3</th>\n",
       "      <th>V4</th>\n",
       "      <th>V5</th>\n",
       "      <th>V6</th>\n",
       "      <th>V7</th>\n",
       "      <th>V8</th>\n",
       "      <th>V9</th>\n",
       "      <th>...</th>\n",
       "      <th>V21</th>\n",
       "      <th>V22</th>\n",
       "      <th>V23</th>\n",
       "      <th>V24</th>\n",
       "      <th>V25</th>\n",
       "      <th>V26</th>\n",
       "      <th>V27</th>\n",
       "      <th>V28</th>\n",
       "      <th>Amount</th>\n",
       "      <th>Class</th>\n",
       "    </tr>\n",
       "  </thead>\n",
       "  <tbody>\n",
       "    <tr>\n",
       "      <th>0</th>\n",
       "      <td>0.0</td>\n",
       "      <td>-1.359807</td>\n",
       "      <td>-0.072781</td>\n",
       "      <td>2.536347</td>\n",
       "      <td>1.378155</td>\n",
       "      <td>-0.338321</td>\n",
       "      <td>0.462388</td>\n",
       "      <td>0.239599</td>\n",
       "      <td>0.098698</td>\n",
       "      <td>0.363787</td>\n",
       "      <td>...</td>\n",
       "      <td>-0.018307</td>\n",
       "      <td>0.277838</td>\n",
       "      <td>-0.110474</td>\n",
       "      <td>0.066928</td>\n",
       "      <td>0.128539</td>\n",
       "      <td>-0.189115</td>\n",
       "      <td>0.133558</td>\n",
       "      <td>-0.021053</td>\n",
       "      <td>149.62</td>\n",
       "      <td>0</td>\n",
       "    </tr>\n",
       "    <tr>\n",
       "      <th>1</th>\n",
       "      <td>0.0</td>\n",
       "      <td>1.191857</td>\n",
       "      <td>0.266151</td>\n",
       "      <td>0.166480</td>\n",
       "      <td>0.448154</td>\n",
       "      <td>0.060018</td>\n",
       "      <td>-0.082361</td>\n",
       "      <td>-0.078803</td>\n",
       "      <td>0.085102</td>\n",
       "      <td>-0.255425</td>\n",
       "      <td>...</td>\n",
       "      <td>-0.225775</td>\n",
       "      <td>-0.638672</td>\n",
       "      <td>0.101288</td>\n",
       "      <td>-0.339846</td>\n",
       "      <td>0.167170</td>\n",
       "      <td>0.125895</td>\n",
       "      <td>-0.008983</td>\n",
       "      <td>0.014724</td>\n",
       "      <td>2.69</td>\n",
       "      <td>0</td>\n",
       "    </tr>\n",
       "    <tr>\n",
       "      <th>2</th>\n",
       "      <td>1.0</td>\n",
       "      <td>-1.358354</td>\n",
       "      <td>-1.340163</td>\n",
       "      <td>1.773209</td>\n",
       "      <td>0.379780</td>\n",
       "      <td>-0.503198</td>\n",
       "      <td>1.800499</td>\n",
       "      <td>0.791461</td>\n",
       "      <td>0.247676</td>\n",
       "      <td>-1.514654</td>\n",
       "      <td>...</td>\n",
       "      <td>0.247998</td>\n",
       "      <td>0.771679</td>\n",
       "      <td>0.909412</td>\n",
       "      <td>-0.689281</td>\n",
       "      <td>-0.327642</td>\n",
       "      <td>-0.139097</td>\n",
       "      <td>-0.055353</td>\n",
       "      <td>-0.059752</td>\n",
       "      <td>378.66</td>\n",
       "      <td>0</td>\n",
       "    </tr>\n",
       "    <tr>\n",
       "      <th>3</th>\n",
       "      <td>1.0</td>\n",
       "      <td>-0.966272</td>\n",
       "      <td>-0.185226</td>\n",
       "      <td>1.792993</td>\n",
       "      <td>-0.863291</td>\n",
       "      <td>-0.010309</td>\n",
       "      <td>1.247203</td>\n",
       "      <td>0.237609</td>\n",
       "      <td>0.377436</td>\n",
       "      <td>-1.387024</td>\n",
       "      <td>...</td>\n",
       "      <td>-0.108300</td>\n",
       "      <td>0.005274</td>\n",
       "      <td>-0.190321</td>\n",
       "      <td>-1.175575</td>\n",
       "      <td>0.647376</td>\n",
       "      <td>-0.221929</td>\n",
       "      <td>0.062723</td>\n",
       "      <td>0.061458</td>\n",
       "      <td>123.50</td>\n",
       "      <td>0</td>\n",
       "    </tr>\n",
       "    <tr>\n",
       "      <th>4</th>\n",
       "      <td>2.0</td>\n",
       "      <td>-1.158233</td>\n",
       "      <td>0.877737</td>\n",
       "      <td>1.548718</td>\n",
       "      <td>0.403034</td>\n",
       "      <td>-0.407193</td>\n",
       "      <td>0.095921</td>\n",
       "      <td>0.592941</td>\n",
       "      <td>-0.270533</td>\n",
       "      <td>0.817739</td>\n",
       "      <td>...</td>\n",
       "      <td>-0.009431</td>\n",
       "      <td>0.798278</td>\n",
       "      <td>-0.137458</td>\n",
       "      <td>0.141267</td>\n",
       "      <td>-0.206010</td>\n",
       "      <td>0.502292</td>\n",
       "      <td>0.219422</td>\n",
       "      <td>0.215153</td>\n",
       "      <td>69.99</td>\n",
       "      <td>0</td>\n",
       "    </tr>\n",
       "  </tbody>\n",
       "</table>\n",
       "<p>5 rows × 31 columns</p>\n",
       "</div>"
      ],
      "text/plain": [
       "   Time        V1        V2        V3        V4        V5        V6        V7  \\\n",
       "0   0.0 -1.359807 -0.072781  2.536347  1.378155 -0.338321  0.462388  0.239599   \n",
       "1   0.0  1.191857  0.266151  0.166480  0.448154  0.060018 -0.082361 -0.078803   \n",
       "2   1.0 -1.358354 -1.340163  1.773209  0.379780 -0.503198  1.800499  0.791461   \n",
       "3   1.0 -0.966272 -0.185226  1.792993 -0.863291 -0.010309  1.247203  0.237609   \n",
       "4   2.0 -1.158233  0.877737  1.548718  0.403034 -0.407193  0.095921  0.592941   \n",
       "\n",
       "         V8        V9  ...       V21       V22       V23       V24       V25  \\\n",
       "0  0.098698  0.363787  ... -0.018307  0.277838 -0.110474  0.066928  0.128539   \n",
       "1  0.085102 -0.255425  ... -0.225775 -0.638672  0.101288 -0.339846  0.167170   \n",
       "2  0.247676 -1.514654  ...  0.247998  0.771679  0.909412 -0.689281 -0.327642   \n",
       "3  0.377436 -1.387024  ... -0.108300  0.005274 -0.190321 -1.175575  0.647376   \n",
       "4 -0.270533  0.817739  ... -0.009431  0.798278 -0.137458  0.141267 -0.206010   \n",
       "\n",
       "        V26       V27       V28  Amount  Class  \n",
       "0 -0.189115  0.133558 -0.021053  149.62      0  \n",
       "1  0.125895 -0.008983  0.014724    2.69      0  \n",
       "2 -0.139097 -0.055353 -0.059752  378.66      0  \n",
       "3 -0.221929  0.062723  0.061458  123.50      0  \n",
       "4  0.502292  0.219422  0.215153   69.99      0  \n",
       "\n",
       "[5 rows x 31 columns]"
      ]
     },
     "execution_count": 8,
     "metadata": {},
     "output_type": "execute_result"
    }
   ],
   "source": [
    "df.head(5) # first 5 rows"
   ]
  },
  {
   "cell_type": "code",
   "execution_count": 9,
   "id": "fac104e3-2b65-4a73-b737-2c74f374bc4c",
   "metadata": {},
   "outputs": [
    {
     "data": {
      "text/html": [
       "<div>\n",
       "<style scoped>\n",
       "    .dataframe tbody tr th:only-of-type {\n",
       "        vertical-align: middle;\n",
       "    }\n",
       "\n",
       "    .dataframe tbody tr th {\n",
       "        vertical-align: top;\n",
       "    }\n",
       "\n",
       "    .dataframe thead th {\n",
       "        text-align: right;\n",
       "    }\n",
       "</style>\n",
       "<table border=\"1\" class=\"dataframe\">\n",
       "  <thead>\n",
       "    <tr style=\"text-align: right;\">\n",
       "      <th></th>\n",
       "      <th>Time</th>\n",
       "      <th>V1</th>\n",
       "      <th>V2</th>\n",
       "      <th>V3</th>\n",
       "      <th>V4</th>\n",
       "      <th>V5</th>\n",
       "      <th>V6</th>\n",
       "      <th>V7</th>\n",
       "      <th>V8</th>\n",
       "      <th>V9</th>\n",
       "      <th>...</th>\n",
       "      <th>V21</th>\n",
       "      <th>V22</th>\n",
       "      <th>V23</th>\n",
       "      <th>V24</th>\n",
       "      <th>V25</th>\n",
       "      <th>V26</th>\n",
       "      <th>V27</th>\n",
       "      <th>V28</th>\n",
       "      <th>Amount</th>\n",
       "      <th>Class</th>\n",
       "    </tr>\n",
       "  </thead>\n",
       "  <tbody>\n",
       "    <tr>\n",
       "      <th>232821</th>\n",
       "      <td>147320.0</td>\n",
       "      <td>-0.978582</td>\n",
       "      <td>1.586015</td>\n",
       "      <td>1.778680</td>\n",
       "      <td>4.301281</td>\n",
       "      <td>-0.191238</td>\n",
       "      <td>1.616410</td>\n",
       "      <td>0.152515</td>\n",
       "      <td>0.904876</td>\n",
       "      <td>-2.151031</td>\n",
       "      <td>...</td>\n",
       "      <td>-0.311494</td>\n",
       "      <td>-1.096501</td>\n",
       "      <td>0.222513</td>\n",
       "      <td>0.661972</td>\n",
       "      <td>-0.052185</td>\n",
       "      <td>0.026673</td>\n",
       "      <td>0.186976</td>\n",
       "      <td>0.101863</td>\n",
       "      <td>94.58</td>\n",
       "      <td>0</td>\n",
       "    </tr>\n",
       "    <tr>\n",
       "      <th>7302</th>\n",
       "      <td>9778.0</td>\n",
       "      <td>-2.834082</td>\n",
       "      <td>2.634107</td>\n",
       "      <td>1.780388</td>\n",
       "      <td>0.700383</td>\n",
       "      <td>-0.871571</td>\n",
       "      <td>1.707810</td>\n",
       "      <td>-2.502182</td>\n",
       "      <td>-6.906768</td>\n",
       "      <td>2.131111</td>\n",
       "      <td>...</td>\n",
       "      <td>6.806714</td>\n",
       "      <td>-2.085816</td>\n",
       "      <td>0.934378</td>\n",
       "      <td>0.220690</td>\n",
       "      <td>-0.005802</td>\n",
       "      <td>-0.437260</td>\n",
       "      <td>0.300429</td>\n",
       "      <td>0.151594</td>\n",
       "      <td>9.99</td>\n",
       "      <td>0</td>\n",
       "    </tr>\n",
       "    <tr>\n",
       "      <th>77718</th>\n",
       "      <td>57178.0</td>\n",
       "      <td>-0.937838</td>\n",
       "      <td>0.540524</td>\n",
       "      <td>1.367181</td>\n",
       "      <td>-0.184169</td>\n",
       "      <td>0.797840</td>\n",
       "      <td>1.014522</td>\n",
       "      <td>0.231974</td>\n",
       "      <td>0.557375</td>\n",
       "      <td>-0.174280</td>\n",
       "      <td>...</td>\n",
       "      <td>-0.121461</td>\n",
       "      <td>-0.159566</td>\n",
       "      <td>0.355510</td>\n",
       "      <td>-1.019948</td>\n",
       "      <td>-0.495068</td>\n",
       "      <td>0.200686</td>\n",
       "      <td>0.228532</td>\n",
       "      <td>0.075002</td>\n",
       "      <td>1.98</td>\n",
       "      <td>0</td>\n",
       "    </tr>\n",
       "    <tr>\n",
       "      <th>91392</th>\n",
       "      <td>63449.0</td>\n",
       "      <td>-2.912021</td>\n",
       "      <td>3.691536</td>\n",
       "      <td>-1.587093</td>\n",
       "      <td>0.387479</td>\n",
       "      <td>-0.709571</td>\n",
       "      <td>-1.405683</td>\n",
       "      <td>0.242811</td>\n",
       "      <td>0.663378</td>\n",
       "      <td>1.089845</td>\n",
       "      <td>...</td>\n",
       "      <td>-0.087522</td>\n",
       "      <td>0.418185</td>\n",
       "      <td>0.249203</td>\n",
       "      <td>0.377047</td>\n",
       "      <td>-0.068202</td>\n",
       "      <td>-0.364608</td>\n",
       "      <td>1.343808</td>\n",
       "      <td>0.770833</td>\n",
       "      <td>1.79</td>\n",
       "      <td>0</td>\n",
       "    </tr>\n",
       "    <tr>\n",
       "      <th>202024</th>\n",
       "      <td>134138.0</td>\n",
       "      <td>0.966570</td>\n",
       "      <td>1.164039</td>\n",
       "      <td>-1.824233</td>\n",
       "      <td>1.200212</td>\n",
       "      <td>1.084062</td>\n",
       "      <td>-1.034111</td>\n",
       "      <td>1.110805</td>\n",
       "      <td>-0.504261</td>\n",
       "      <td>-0.824930</td>\n",
       "      <td>...</td>\n",
       "      <td>0.212369</td>\n",
       "      <td>0.783782</td>\n",
       "      <td>0.041812</td>\n",
       "      <td>0.732360</td>\n",
       "      <td>-0.904860</td>\n",
       "      <td>0.884830</td>\n",
       "      <td>-0.039767</td>\n",
       "      <td>0.076007</td>\n",
       "      <td>10.00</td>\n",
       "      <td>0</td>\n",
       "    </tr>\n",
       "  </tbody>\n",
       "</table>\n",
       "<p>5 rows × 31 columns</p>\n",
       "</div>"
      ],
      "text/plain": [
       "            Time        V1        V2        V3        V4        V5        V6  \\\n",
       "232821  147320.0 -0.978582  1.586015  1.778680  4.301281 -0.191238  1.616410   \n",
       "7302      9778.0 -2.834082  2.634107  1.780388  0.700383 -0.871571  1.707810   \n",
       "77718    57178.0 -0.937838  0.540524  1.367181 -0.184169  0.797840  1.014522   \n",
       "91392    63449.0 -2.912021  3.691536 -1.587093  0.387479 -0.709571 -1.405683   \n",
       "202024  134138.0  0.966570  1.164039 -1.824233  1.200212  1.084062 -1.034111   \n",
       "\n",
       "              V7        V8        V9  ...       V21       V22       V23  \\\n",
       "232821  0.152515  0.904876 -2.151031  ... -0.311494 -1.096501  0.222513   \n",
       "7302   -2.502182 -6.906768  2.131111  ...  6.806714 -2.085816  0.934378   \n",
       "77718   0.231974  0.557375 -0.174280  ... -0.121461 -0.159566  0.355510   \n",
       "91392   0.242811  0.663378  1.089845  ... -0.087522  0.418185  0.249203   \n",
       "202024  1.110805 -0.504261 -0.824930  ...  0.212369  0.783782  0.041812   \n",
       "\n",
       "             V24       V25       V26       V27       V28  Amount  Class  \n",
       "232821  0.661972 -0.052185  0.026673  0.186976  0.101863   94.58      0  \n",
       "7302    0.220690 -0.005802 -0.437260  0.300429  0.151594    9.99      0  \n",
       "77718  -1.019948 -0.495068  0.200686  0.228532  0.075002    1.98      0  \n",
       "91392   0.377047 -0.068202 -0.364608  1.343808  0.770833    1.79      0  \n",
       "202024  0.732360 -0.904860  0.884830 -0.039767  0.076007   10.00      0  \n",
       "\n",
       "[5 rows x 31 columns]"
      ]
     },
     "execution_count": 9,
     "metadata": {},
     "output_type": "execute_result"
    }
   ],
   "source": [
    "df.sample(5) # sample 5 random rows"
   ]
  },
  {
   "cell_type": "code",
   "execution_count": 10,
   "id": "62b81a0b-cf16-4ade-b429-2aad5bc90fea",
   "metadata": {},
   "outputs": [
    {
     "data": {
      "text/html": [
       "<div>\n",
       "<style scoped>\n",
       "    .dataframe tbody tr th:only-of-type {\n",
       "        vertical-align: middle;\n",
       "    }\n",
       "\n",
       "    .dataframe tbody tr th {\n",
       "        vertical-align: top;\n",
       "    }\n",
       "\n",
       "    .dataframe thead th {\n",
       "        text-align: right;\n",
       "    }\n",
       "</style>\n",
       "<table border=\"1\" class=\"dataframe\">\n",
       "  <thead>\n",
       "    <tr style=\"text-align: right;\">\n",
       "      <th></th>\n",
       "      <th>Time</th>\n",
       "      <th>V1</th>\n",
       "      <th>V2</th>\n",
       "      <th>V3</th>\n",
       "      <th>V4</th>\n",
       "      <th>V5</th>\n",
       "      <th>V6</th>\n",
       "      <th>V7</th>\n",
       "      <th>V8</th>\n",
       "      <th>V9</th>\n",
       "      <th>...</th>\n",
       "      <th>V21</th>\n",
       "      <th>V22</th>\n",
       "      <th>V23</th>\n",
       "      <th>V24</th>\n",
       "      <th>V25</th>\n",
       "      <th>V26</th>\n",
       "      <th>V27</th>\n",
       "      <th>V28</th>\n",
       "      <th>Amount</th>\n",
       "      <th>Class</th>\n",
       "    </tr>\n",
       "  </thead>\n",
       "  <tbody>\n",
       "    <tr>\n",
       "      <th>count</th>\n",
       "      <td>284807.000000</td>\n",
       "      <td>2.848070e+05</td>\n",
       "      <td>2.848070e+05</td>\n",
       "      <td>2.848070e+05</td>\n",
       "      <td>2.848070e+05</td>\n",
       "      <td>2.848070e+05</td>\n",
       "      <td>2.848070e+05</td>\n",
       "      <td>2.848070e+05</td>\n",
       "      <td>2.848070e+05</td>\n",
       "      <td>2.848070e+05</td>\n",
       "      <td>...</td>\n",
       "      <td>2.848070e+05</td>\n",
       "      <td>2.848070e+05</td>\n",
       "      <td>2.848070e+05</td>\n",
       "      <td>2.848070e+05</td>\n",
       "      <td>2.848070e+05</td>\n",
       "      <td>2.848070e+05</td>\n",
       "      <td>2.848070e+05</td>\n",
       "      <td>2.848070e+05</td>\n",
       "      <td>284807.000000</td>\n",
       "      <td>284807.000000</td>\n",
       "    </tr>\n",
       "    <tr>\n",
       "      <th>mean</th>\n",
       "      <td>94813.859575</td>\n",
       "      <td>1.168375e-15</td>\n",
       "      <td>3.416908e-16</td>\n",
       "      <td>-1.379537e-15</td>\n",
       "      <td>2.074095e-15</td>\n",
       "      <td>9.604066e-16</td>\n",
       "      <td>1.487313e-15</td>\n",
       "      <td>-5.556467e-16</td>\n",
       "      <td>1.213481e-16</td>\n",
       "      <td>-2.406331e-15</td>\n",
       "      <td>...</td>\n",
       "      <td>1.654067e-16</td>\n",
       "      <td>-3.568593e-16</td>\n",
       "      <td>2.578648e-16</td>\n",
       "      <td>4.473266e-15</td>\n",
       "      <td>5.340915e-16</td>\n",
       "      <td>1.683437e-15</td>\n",
       "      <td>-3.660091e-16</td>\n",
       "      <td>-1.227390e-16</td>\n",
       "      <td>88.349619</td>\n",
       "      <td>0.001727</td>\n",
       "    </tr>\n",
       "    <tr>\n",
       "      <th>std</th>\n",
       "      <td>47488.145955</td>\n",
       "      <td>1.958696e+00</td>\n",
       "      <td>1.651309e+00</td>\n",
       "      <td>1.516255e+00</td>\n",
       "      <td>1.415869e+00</td>\n",
       "      <td>1.380247e+00</td>\n",
       "      <td>1.332271e+00</td>\n",
       "      <td>1.237094e+00</td>\n",
       "      <td>1.194353e+00</td>\n",
       "      <td>1.098632e+00</td>\n",
       "      <td>...</td>\n",
       "      <td>7.345240e-01</td>\n",
       "      <td>7.257016e-01</td>\n",
       "      <td>6.244603e-01</td>\n",
       "      <td>6.056471e-01</td>\n",
       "      <td>5.212781e-01</td>\n",
       "      <td>4.822270e-01</td>\n",
       "      <td>4.036325e-01</td>\n",
       "      <td>3.300833e-01</td>\n",
       "      <td>250.120109</td>\n",
       "      <td>0.041527</td>\n",
       "    </tr>\n",
       "    <tr>\n",
       "      <th>min</th>\n",
       "      <td>0.000000</td>\n",
       "      <td>-5.640751e+01</td>\n",
       "      <td>-7.271573e+01</td>\n",
       "      <td>-4.832559e+01</td>\n",
       "      <td>-5.683171e+00</td>\n",
       "      <td>-1.137433e+02</td>\n",
       "      <td>-2.616051e+01</td>\n",
       "      <td>-4.355724e+01</td>\n",
       "      <td>-7.321672e+01</td>\n",
       "      <td>-1.343407e+01</td>\n",
       "      <td>...</td>\n",
       "      <td>-3.483038e+01</td>\n",
       "      <td>-1.093314e+01</td>\n",
       "      <td>-4.480774e+01</td>\n",
       "      <td>-2.836627e+00</td>\n",
       "      <td>-1.029540e+01</td>\n",
       "      <td>-2.604551e+00</td>\n",
       "      <td>-2.256568e+01</td>\n",
       "      <td>-1.543008e+01</td>\n",
       "      <td>0.000000</td>\n",
       "      <td>0.000000</td>\n",
       "    </tr>\n",
       "    <tr>\n",
       "      <th>25%</th>\n",
       "      <td>54201.500000</td>\n",
       "      <td>-9.203734e-01</td>\n",
       "      <td>-5.985499e-01</td>\n",
       "      <td>-8.903648e-01</td>\n",
       "      <td>-8.486401e-01</td>\n",
       "      <td>-6.915971e-01</td>\n",
       "      <td>-7.682956e-01</td>\n",
       "      <td>-5.540759e-01</td>\n",
       "      <td>-2.086297e-01</td>\n",
       "      <td>-6.430976e-01</td>\n",
       "      <td>...</td>\n",
       "      <td>-2.283949e-01</td>\n",
       "      <td>-5.423504e-01</td>\n",
       "      <td>-1.618463e-01</td>\n",
       "      <td>-3.545861e-01</td>\n",
       "      <td>-3.171451e-01</td>\n",
       "      <td>-3.269839e-01</td>\n",
       "      <td>-7.083953e-02</td>\n",
       "      <td>-5.295979e-02</td>\n",
       "      <td>5.600000</td>\n",
       "      <td>0.000000</td>\n",
       "    </tr>\n",
       "    <tr>\n",
       "      <th>50%</th>\n",
       "      <td>84692.000000</td>\n",
       "      <td>1.810880e-02</td>\n",
       "      <td>6.548556e-02</td>\n",
       "      <td>1.798463e-01</td>\n",
       "      <td>-1.984653e-02</td>\n",
       "      <td>-5.433583e-02</td>\n",
       "      <td>-2.741871e-01</td>\n",
       "      <td>4.010308e-02</td>\n",
       "      <td>2.235804e-02</td>\n",
       "      <td>-5.142873e-02</td>\n",
       "      <td>...</td>\n",
       "      <td>-2.945017e-02</td>\n",
       "      <td>6.781943e-03</td>\n",
       "      <td>-1.119293e-02</td>\n",
       "      <td>4.097606e-02</td>\n",
       "      <td>1.659350e-02</td>\n",
       "      <td>-5.213911e-02</td>\n",
       "      <td>1.342146e-03</td>\n",
       "      <td>1.124383e-02</td>\n",
       "      <td>22.000000</td>\n",
       "      <td>0.000000</td>\n",
       "    </tr>\n",
       "    <tr>\n",
       "      <th>75%</th>\n",
       "      <td>139320.500000</td>\n",
       "      <td>1.315642e+00</td>\n",
       "      <td>8.037239e-01</td>\n",
       "      <td>1.027196e+00</td>\n",
       "      <td>7.433413e-01</td>\n",
       "      <td>6.119264e-01</td>\n",
       "      <td>3.985649e-01</td>\n",
       "      <td>5.704361e-01</td>\n",
       "      <td>3.273459e-01</td>\n",
       "      <td>5.971390e-01</td>\n",
       "      <td>...</td>\n",
       "      <td>1.863772e-01</td>\n",
       "      <td>5.285536e-01</td>\n",
       "      <td>1.476421e-01</td>\n",
       "      <td>4.395266e-01</td>\n",
       "      <td>3.507156e-01</td>\n",
       "      <td>2.409522e-01</td>\n",
       "      <td>9.104512e-02</td>\n",
       "      <td>7.827995e-02</td>\n",
       "      <td>77.165000</td>\n",
       "      <td>0.000000</td>\n",
       "    </tr>\n",
       "    <tr>\n",
       "      <th>max</th>\n",
       "      <td>172792.000000</td>\n",
       "      <td>2.454930e+00</td>\n",
       "      <td>2.205773e+01</td>\n",
       "      <td>9.382558e+00</td>\n",
       "      <td>1.687534e+01</td>\n",
       "      <td>3.480167e+01</td>\n",
       "      <td>7.330163e+01</td>\n",
       "      <td>1.205895e+02</td>\n",
       "      <td>2.000721e+01</td>\n",
       "      <td>1.559499e+01</td>\n",
       "      <td>...</td>\n",
       "      <td>2.720284e+01</td>\n",
       "      <td>1.050309e+01</td>\n",
       "      <td>2.252841e+01</td>\n",
       "      <td>4.584549e+00</td>\n",
       "      <td>7.519589e+00</td>\n",
       "      <td>3.517346e+00</td>\n",
       "      <td>3.161220e+01</td>\n",
       "      <td>3.384781e+01</td>\n",
       "      <td>25691.160000</td>\n",
       "      <td>1.000000</td>\n",
       "    </tr>\n",
       "  </tbody>\n",
       "</table>\n",
       "<p>8 rows × 31 columns</p>\n",
       "</div>"
      ],
      "text/plain": [
       "                Time            V1            V2            V3            V4  \\\n",
       "count  284807.000000  2.848070e+05  2.848070e+05  2.848070e+05  2.848070e+05   \n",
       "mean    94813.859575  1.168375e-15  3.416908e-16 -1.379537e-15  2.074095e-15   \n",
       "std     47488.145955  1.958696e+00  1.651309e+00  1.516255e+00  1.415869e+00   \n",
       "min         0.000000 -5.640751e+01 -7.271573e+01 -4.832559e+01 -5.683171e+00   \n",
       "25%     54201.500000 -9.203734e-01 -5.985499e-01 -8.903648e-01 -8.486401e-01   \n",
       "50%     84692.000000  1.810880e-02  6.548556e-02  1.798463e-01 -1.984653e-02   \n",
       "75%    139320.500000  1.315642e+00  8.037239e-01  1.027196e+00  7.433413e-01   \n",
       "max    172792.000000  2.454930e+00  2.205773e+01  9.382558e+00  1.687534e+01   \n",
       "\n",
       "                 V5            V6            V7            V8            V9  \\\n",
       "count  2.848070e+05  2.848070e+05  2.848070e+05  2.848070e+05  2.848070e+05   \n",
       "mean   9.604066e-16  1.487313e-15 -5.556467e-16  1.213481e-16 -2.406331e-15   \n",
       "std    1.380247e+00  1.332271e+00  1.237094e+00  1.194353e+00  1.098632e+00   \n",
       "min   -1.137433e+02 -2.616051e+01 -4.355724e+01 -7.321672e+01 -1.343407e+01   \n",
       "25%   -6.915971e-01 -7.682956e-01 -5.540759e-01 -2.086297e-01 -6.430976e-01   \n",
       "50%   -5.433583e-02 -2.741871e-01  4.010308e-02  2.235804e-02 -5.142873e-02   \n",
       "75%    6.119264e-01  3.985649e-01  5.704361e-01  3.273459e-01  5.971390e-01   \n",
       "max    3.480167e+01  7.330163e+01  1.205895e+02  2.000721e+01  1.559499e+01   \n",
       "\n",
       "       ...           V21           V22           V23           V24  \\\n",
       "count  ...  2.848070e+05  2.848070e+05  2.848070e+05  2.848070e+05   \n",
       "mean   ...  1.654067e-16 -3.568593e-16  2.578648e-16  4.473266e-15   \n",
       "std    ...  7.345240e-01  7.257016e-01  6.244603e-01  6.056471e-01   \n",
       "min    ... -3.483038e+01 -1.093314e+01 -4.480774e+01 -2.836627e+00   \n",
       "25%    ... -2.283949e-01 -5.423504e-01 -1.618463e-01 -3.545861e-01   \n",
       "50%    ... -2.945017e-02  6.781943e-03 -1.119293e-02  4.097606e-02   \n",
       "75%    ...  1.863772e-01  5.285536e-01  1.476421e-01  4.395266e-01   \n",
       "max    ...  2.720284e+01  1.050309e+01  2.252841e+01  4.584549e+00   \n",
       "\n",
       "                V25           V26           V27           V28         Amount  \\\n",
       "count  2.848070e+05  2.848070e+05  2.848070e+05  2.848070e+05  284807.000000   \n",
       "mean   5.340915e-16  1.683437e-15 -3.660091e-16 -1.227390e-16      88.349619   \n",
       "std    5.212781e-01  4.822270e-01  4.036325e-01  3.300833e-01     250.120109   \n",
       "min   -1.029540e+01 -2.604551e+00 -2.256568e+01 -1.543008e+01       0.000000   \n",
       "25%   -3.171451e-01 -3.269839e-01 -7.083953e-02 -5.295979e-02       5.600000   \n",
       "50%    1.659350e-02 -5.213911e-02  1.342146e-03  1.124383e-02      22.000000   \n",
       "75%    3.507156e-01  2.409522e-01  9.104512e-02  7.827995e-02      77.165000   \n",
       "max    7.519589e+00  3.517346e+00  3.161220e+01  3.384781e+01   25691.160000   \n",
       "\n",
       "               Class  \n",
       "count  284807.000000  \n",
       "mean        0.001727  \n",
       "std         0.041527  \n",
       "min         0.000000  \n",
       "25%         0.000000  \n",
       "50%         0.000000  \n",
       "75%         0.000000  \n",
       "max         1.000000  \n",
       "\n",
       "[8 rows x 31 columns]"
      ]
     },
     "execution_count": 10,
     "metadata": {},
     "output_type": "execute_result"
    }
   ],
   "source": [
    "df.describe() # describe our data"
   ]
  },
  {
   "cell_type": "code",
   "execution_count": 11,
   "id": "48052c40-b9f2-41e7-bc50-fa18712e03af",
   "metadata": {},
   "outputs": [
    {
     "data": {
      "text/plain": [
       "Time      0\n",
       "V1        0\n",
       "V2        0\n",
       "V3        0\n",
       "V4        0\n",
       "V5        0\n",
       "V6        0\n",
       "V7        0\n",
       "V8        0\n",
       "V9        0\n",
       "V10       0\n",
       "V11       0\n",
       "V12       0\n",
       "V13       0\n",
       "V14       0\n",
       "V15       0\n",
       "V16       0\n",
       "V17       0\n",
       "V18       0\n",
       "V19       0\n",
       "V20       0\n",
       "V21       0\n",
       "V22       0\n",
       "V23       0\n",
       "V24       0\n",
       "V25       0\n",
       "V26       0\n",
       "V27       0\n",
       "V28       0\n",
       "Amount    0\n",
       "Class     0\n",
       "dtype: int64"
      ]
     },
     "execution_count": 11,
     "metadata": {},
     "output_type": "execute_result"
    }
   ],
   "source": [
    "# Investigate null values\n",
    "df.isnull().sum()"
   ]
  },
  {
   "cell_type": "code",
   "execution_count": 12,
   "id": "e3a7ca94-290f-4ed1-9ad0-320627577a58",
   "metadata": {},
   "outputs": [
    {
     "data": {
      "text/plain": [
       "count    2.848070e+05\n",
       "mean     1.673327e-15\n",
       "std      1.020713e+00\n",
       "min     -4.797473e+00\n",
       "25%     -7.624942e-01\n",
       "50%     -3.275735e-02\n",
       "75%      7.395934e-01\n",
       "max      1.201891e+01\n",
       "Name: V11, dtype: float64"
      ]
     },
     "execution_count": 12,
     "metadata": {},
     "output_type": "execute_result"
    }
   ],
   "source": [
    "df.V11.describe()"
   ]
  },
  {
   "cell_type": "code",
   "execution_count": 13,
   "id": "928c0e2c-7c63-4328-9dd1-5f3ed06166be",
   "metadata": {},
   "outputs": [
    {
     "data": {
      "text/plain": [
       "count    2.848070e+05\n",
       "mean    -3.772171e-16\n",
       "std      8.493371e-01\n",
       "min     -2.516280e+01\n",
       "25%     -4.837483e-01\n",
       "50%     -6.567575e-02\n",
       "75%      3.996750e-01\n",
       "max      9.253526e+00\n",
       "Name: V17, dtype: float64"
      ]
     },
     "execution_count": 13,
     "metadata": {},
     "output_type": "execute_result"
    }
   ],
   "source": [
    "df.V17.describe()"
   ]
  },
  {
   "cell_type": "code",
   "execution_count": 14,
   "id": "645f7031-12cb-4e2d-ac43-4db6ee50c0a1",
   "metadata": {},
   "outputs": [],
   "source": [
    "# Plot some data summarize/describe"
   ]
  },
  {
   "cell_type": "code",
   "execution_count": 15,
   "id": "4df53ee2-7e34-4193-9fb2-c880fa0d9ce0",
   "metadata": {},
   "outputs": [
    {
     "data": {
      "text/html": [
       "<div>\n",
       "<style scoped>\n",
       "    .dataframe tbody tr th:only-of-type {\n",
       "        vertical-align: middle;\n",
       "    }\n",
       "\n",
       "    .dataframe tbody tr th {\n",
       "        vertical-align: top;\n",
       "    }\n",
       "\n",
       "    .dataframe thead th {\n",
       "        text-align: right;\n",
       "    }\n",
       "</style>\n",
       "<table border=\"1\" class=\"dataframe\">\n",
       "  <thead>\n",
       "    <tr style=\"text-align: right;\">\n",
       "      <th></th>\n",
       "      <th>Time</th>\n",
       "      <th>V1</th>\n",
       "      <th>V2</th>\n",
       "      <th>V3</th>\n",
       "      <th>V4</th>\n",
       "      <th>V5</th>\n",
       "      <th>V6</th>\n",
       "      <th>V7</th>\n",
       "      <th>V8</th>\n",
       "      <th>V9</th>\n",
       "      <th>...</th>\n",
       "      <th>V21</th>\n",
       "      <th>V22</th>\n",
       "      <th>V23</th>\n",
       "      <th>V24</th>\n",
       "      <th>V25</th>\n",
       "      <th>V26</th>\n",
       "      <th>V27</th>\n",
       "      <th>V28</th>\n",
       "      <th>Amount</th>\n",
       "      <th>Class</th>\n",
       "    </tr>\n",
       "  </thead>\n",
       "  <tbody>\n",
       "    <tr>\n",
       "      <th>42473</th>\n",
       "      <td>41116.0</td>\n",
       "      <td>-3.600544</td>\n",
       "      <td>4.519047</td>\n",
       "      <td>-6.340884</td>\n",
       "      <td>6.214767</td>\n",
       "      <td>-5.829558</td>\n",
       "      <td>-2.478095</td>\n",
       "      <td>-9.938412</td>\n",
       "      <td>2.830086</td>\n",
       "      <td>-5.659162</td>\n",
       "      <td>...</td>\n",
       "      <td>2.263770</td>\n",
       "      <td>0.620749</td>\n",
       "      <td>-0.094069</td>\n",
       "      <td>0.536719</td>\n",
       "      <td>0.398142</td>\n",
       "      <td>0.008277</td>\n",
       "      <td>2.053524</td>\n",
       "      <td>0.835749</td>\n",
       "      <td>3.79</td>\n",
       "      <td>1</td>\n",
       "    </tr>\n",
       "    <tr>\n",
       "      <th>42609</th>\n",
       "      <td>41170.0</td>\n",
       "      <td>-6.498086</td>\n",
       "      <td>4.750515</td>\n",
       "      <td>-8.966558</td>\n",
       "      <td>7.098854</td>\n",
       "      <td>-6.958376</td>\n",
       "      <td>-2.822126</td>\n",
       "      <td>-10.333406</td>\n",
       "      <td>4.031907</td>\n",
       "      <td>-6.648778</td>\n",
       "      <td>...</td>\n",
       "      <td>2.158143</td>\n",
       "      <td>0.111510</td>\n",
       "      <td>0.216414</td>\n",
       "      <td>0.584661</td>\n",
       "      <td>0.760360</td>\n",
       "      <td>0.081972</td>\n",
       "      <td>1.415068</td>\n",
       "      <td>0.035124</td>\n",
       "      <td>83.38</td>\n",
       "      <td>1</td>\n",
       "    </tr>\n",
       "    <tr>\n",
       "      <th>42528</th>\n",
       "      <td>41138.0</td>\n",
       "      <td>-4.595617</td>\n",
       "      <td>5.083690</td>\n",
       "      <td>-7.581015</td>\n",
       "      <td>7.546033</td>\n",
       "      <td>-6.949165</td>\n",
       "      <td>-1.729185</td>\n",
       "      <td>-8.190192</td>\n",
       "      <td>2.714670</td>\n",
       "      <td>-7.083169</td>\n",
       "      <td>...</td>\n",
       "      <td>2.248971</td>\n",
       "      <td>0.566844</td>\n",
       "      <td>0.033744</td>\n",
       "      <td>0.591783</td>\n",
       "      <td>0.334229</td>\n",
       "      <td>0.386801</td>\n",
       "      <td>2.163898</td>\n",
       "      <td>0.983104</td>\n",
       "      <td>340.11</td>\n",
       "      <td>1</td>\n",
       "    </tr>\n",
       "    <tr>\n",
       "      <th>42674</th>\n",
       "      <td>41194.0</td>\n",
       "      <td>-7.896886</td>\n",
       "      <td>5.381020</td>\n",
       "      <td>-8.451162</td>\n",
       "      <td>7.963928</td>\n",
       "      <td>-7.862419</td>\n",
       "      <td>-2.376820</td>\n",
       "      <td>-11.949723</td>\n",
       "      <td>5.051356</td>\n",
       "      <td>-6.912076</td>\n",
       "      <td>...</td>\n",
       "      <td>2.557944</td>\n",
       "      <td>0.926278</td>\n",
       "      <td>0.032795</td>\n",
       "      <td>0.638073</td>\n",
       "      <td>0.361887</td>\n",
       "      <td>0.444577</td>\n",
       "      <td>1.101923</td>\n",
       "      <td>0.205958</td>\n",
       "      <td>1.52</td>\n",
       "      <td>1</td>\n",
       "    </tr>\n",
       "    <tr>\n",
       "      <th>42635</th>\n",
       "      <td>41181.0</td>\n",
       "      <td>-7.334341</td>\n",
       "      <td>4.960892</td>\n",
       "      <td>-8.451410</td>\n",
       "      <td>8.174825</td>\n",
       "      <td>-7.237464</td>\n",
       "      <td>-2.382711</td>\n",
       "      <td>-11.508842</td>\n",
       "      <td>4.635798</td>\n",
       "      <td>-6.557760</td>\n",
       "      <td>...</td>\n",
       "      <td>2.153755</td>\n",
       "      <td>0.033922</td>\n",
       "      <td>-0.014095</td>\n",
       "      <td>0.625250</td>\n",
       "      <td>-0.053390</td>\n",
       "      <td>0.164709</td>\n",
       "      <td>1.411047</td>\n",
       "      <td>0.315645</td>\n",
       "      <td>11.38</td>\n",
       "      <td>1</td>\n",
       "    </tr>\n",
       "    <tr>\n",
       "      <th>150665</th>\n",
       "      <td>93856.0</td>\n",
       "      <td>-6.750509</td>\n",
       "      <td>5.367416</td>\n",
       "      <td>-10.054635</td>\n",
       "      <td>9.064478</td>\n",
       "      <td>-7.968118</td>\n",
       "      <td>-2.263798</td>\n",
       "      <td>-10.317566</td>\n",
       "      <td>4.237666</td>\n",
       "      <td>-5.324109</td>\n",
       "      <td>...</td>\n",
       "      <td>1.909032</td>\n",
       "      <td>-0.348740</td>\n",
       "      <td>0.425001</td>\n",
       "      <td>0.674909</td>\n",
       "      <td>-0.784208</td>\n",
       "      <td>-0.247422</td>\n",
       "      <td>1.159581</td>\n",
       "      <td>0.197818</td>\n",
       "      <td>209.65</td>\n",
       "      <td>1</td>\n",
       "    </tr>\n",
       "    <tr>\n",
       "      <th>42856</th>\n",
       "      <td>41273.0</td>\n",
       "      <td>-11.682215</td>\n",
       "      <td>6.332882</td>\n",
       "      <td>-13.297109</td>\n",
       "      <td>7.690772</td>\n",
       "      <td>-10.889891</td>\n",
       "      <td>-2.792360</td>\n",
       "      <td>-12.561783</td>\n",
       "      <td>7.287122</td>\n",
       "      <td>-7.570322</td>\n",
       "      <td>...</td>\n",
       "      <td>2.133456</td>\n",
       "      <td>-1.271509</td>\n",
       "      <td>-0.035304</td>\n",
       "      <td>0.615054</td>\n",
       "      <td>0.349024</td>\n",
       "      <td>-0.428923</td>\n",
       "      <td>-0.694935</td>\n",
       "      <td>-0.818970</td>\n",
       "      <td>173.07</td>\n",
       "      <td>1</td>\n",
       "    </tr>\n",
       "    <tr>\n",
       "      <th>42549</th>\n",
       "      <td>41147.0</td>\n",
       "      <td>-5.314173</td>\n",
       "      <td>4.145944</td>\n",
       "      <td>-8.532522</td>\n",
       "      <td>8.344392</td>\n",
       "      <td>-5.718008</td>\n",
       "      <td>-3.043536</td>\n",
       "      <td>-10.989185</td>\n",
       "      <td>3.404129</td>\n",
       "      <td>-6.167234</td>\n",
       "      <td>...</td>\n",
       "      <td>2.331466</td>\n",
       "      <td>0.862996</td>\n",
       "      <td>-0.614453</td>\n",
       "      <td>0.523648</td>\n",
       "      <td>-0.712593</td>\n",
       "      <td>0.324638</td>\n",
       "      <td>2.245091</td>\n",
       "      <td>0.497321</td>\n",
       "      <td>88.23</td>\n",
       "      <td>1</td>\n",
       "    </tr>\n",
       "    <tr>\n",
       "      <th>42741</th>\n",
       "      <td>41227.0</td>\n",
       "      <td>-9.001351</td>\n",
       "      <td>6.613284</td>\n",
       "      <td>-12.423635</td>\n",
       "      <td>7.519929</td>\n",
       "      <td>-10.266255</td>\n",
       "      <td>-2.113208</td>\n",
       "      <td>-9.984287</td>\n",
       "      <td>5.541941</td>\n",
       "      <td>-7.383705</td>\n",
       "      <td>...</td>\n",
       "      <td>1.775891</td>\n",
       "      <td>-1.224758</td>\n",
       "      <td>0.082594</td>\n",
       "      <td>0.452089</td>\n",
       "      <td>0.463827</td>\n",
       "      <td>-0.296928</td>\n",
       "      <td>0.526506</td>\n",
       "      <td>-0.450890</td>\n",
       "      <td>459.07</td>\n",
       "      <td>1</td>\n",
       "    </tr>\n",
       "    <tr>\n",
       "      <th>42936</th>\n",
       "      <td>41305.0</td>\n",
       "      <td>-12.980943</td>\n",
       "      <td>6.720508</td>\n",
       "      <td>-13.455636</td>\n",
       "      <td>8.698610</td>\n",
       "      <td>-11.479552</td>\n",
       "      <td>-2.681519</td>\n",
       "      <td>-14.019291</td>\n",
       "      <td>8.218191</td>\n",
       "      <td>-7.930900</td>\n",
       "      <td>...</td>\n",
       "      <td>2.549628</td>\n",
       "      <td>-0.532228</td>\n",
       "      <td>-0.235096</td>\n",
       "      <td>0.673209</td>\n",
       "      <td>0.226598</td>\n",
       "      <td>-0.006168</td>\n",
       "      <td>-1.185696</td>\n",
       "      <td>-0.747361</td>\n",
       "      <td>59.68</td>\n",
       "      <td>1</td>\n",
       "    </tr>\n",
       "    <tr>\n",
       "      <th>41943</th>\n",
       "      <td>40892.0</td>\n",
       "      <td>-2.140511</td>\n",
       "      <td>4.104871</td>\n",
       "      <td>-8.996859</td>\n",
       "      <td>4.028391</td>\n",
       "      <td>-5.131359</td>\n",
       "      <td>-4.153568</td>\n",
       "      <td>-9.360095</td>\n",
       "      <td>1.922075</td>\n",
       "      <td>-4.026180</td>\n",
       "      <td>...</td>\n",
       "      <td>1.854267</td>\n",
       "      <td>-0.165534</td>\n",
       "      <td>-0.339939</td>\n",
       "      <td>0.296314</td>\n",
       "      <td>1.364225</td>\n",
       "      <td>-0.518996</td>\n",
       "      <td>2.352333</td>\n",
       "      <td>1.130625</td>\n",
       "      <td>0.76</td>\n",
       "      <td>1</td>\n",
       "    </tr>\n",
       "    <tr>\n",
       "      <th>42696</th>\n",
       "      <td>41203.0</td>\n",
       "      <td>-8.426814</td>\n",
       "      <td>6.241659</td>\n",
       "      <td>-9.946470</td>\n",
       "      <td>8.199614</td>\n",
       "      <td>-8.213093</td>\n",
       "      <td>-2.522046</td>\n",
       "      <td>-11.643028</td>\n",
       "      <td>5.339500</td>\n",
       "      <td>-7.051016</td>\n",
       "      <td>...</td>\n",
       "      <td>2.427460</td>\n",
       "      <td>0.692667</td>\n",
       "      <td>0.020305</td>\n",
       "      <td>0.499809</td>\n",
       "      <td>0.467594</td>\n",
       "      <td>0.483162</td>\n",
       "      <td>1.195671</td>\n",
       "      <td>0.198294</td>\n",
       "      <td>88.23</td>\n",
       "      <td>1</td>\n",
       "    </tr>\n",
       "    <tr>\n",
       "      <th>150692</th>\n",
       "      <td>93904.0</td>\n",
       "      <td>-11.320633</td>\n",
       "      <td>7.191950</td>\n",
       "      <td>-13.179083</td>\n",
       "      <td>9.099552</td>\n",
       "      <td>-10.094749</td>\n",
       "      <td>-2.440115</td>\n",
       "      <td>-14.184337</td>\n",
       "      <td>4.452503</td>\n",
       "      <td>-6.241960</td>\n",
       "      <td>...</td>\n",
       "      <td>1.082235</td>\n",
       "      <td>-0.350563</td>\n",
       "      <td>0.483044</td>\n",
       "      <td>0.661133</td>\n",
       "      <td>-0.396522</td>\n",
       "      <td>-0.413315</td>\n",
       "      <td>-0.997548</td>\n",
       "      <td>-0.235036</td>\n",
       "      <td>37.93</td>\n",
       "      <td>1</td>\n",
       "    </tr>\n",
       "    <tr>\n",
       "      <th>42945</th>\n",
       "      <td>41308.0</td>\n",
       "      <td>-13.680760</td>\n",
       "      <td>6.990389</td>\n",
       "      <td>-13.770001</td>\n",
       "      <td>8.694897</td>\n",
       "      <td>-11.426968</td>\n",
       "      <td>-2.919845</td>\n",
       "      <td>-14.594562</td>\n",
       "      <td>8.622905</td>\n",
       "      <td>-8.090697</td>\n",
       "      <td>...</td>\n",
       "      <td>2.989553</td>\n",
       "      <td>0.497599</td>\n",
       "      <td>-0.509290</td>\n",
       "      <td>0.732503</td>\n",
       "      <td>0.280528</td>\n",
       "      <td>0.280037</td>\n",
       "      <td>-1.406687</td>\n",
       "      <td>-0.663643</td>\n",
       "      <td>0.76</td>\n",
       "      <td>1</td>\n",
       "    </tr>\n",
       "    <tr>\n",
       "      <th>150644</th>\n",
       "      <td>93823.0</td>\n",
       "      <td>-3.821939</td>\n",
       "      <td>5.667247</td>\n",
       "      <td>-9.244963</td>\n",
       "      <td>8.246147</td>\n",
       "      <td>-4.368286</td>\n",
       "      <td>-3.450735</td>\n",
       "      <td>-8.427378</td>\n",
       "      <td>2.305609</td>\n",
       "      <td>-5.338079</td>\n",
       "      <td>...</td>\n",
       "      <td>1.990520</td>\n",
       "      <td>0.083353</td>\n",
       "      <td>-0.062264</td>\n",
       "      <td>0.390188</td>\n",
       "      <td>0.329884</td>\n",
       "      <td>0.098017</td>\n",
       "      <td>1.869570</td>\n",
       "      <td>1.000850</td>\n",
       "      <td>75.86</td>\n",
       "      <td>1</td>\n",
       "    </tr>\n",
       "    <tr>\n",
       "      <th>150601</th>\n",
       "      <td>93742.0</td>\n",
       "      <td>-3.291125</td>\n",
       "      <td>4.401194</td>\n",
       "      <td>-8.394212</td>\n",
       "      <td>4.453580</td>\n",
       "      <td>-4.790055</td>\n",
       "      <td>-4.240182</td>\n",
       "      <td>-9.219001</td>\n",
       "      <td>1.974030</td>\n",
       "      <td>-2.912943</td>\n",
       "      <td>...</td>\n",
       "      <td>2.102343</td>\n",
       "      <td>0.597370</td>\n",
       "      <td>-0.328086</td>\n",
       "      <td>0.445752</td>\n",
       "      <td>0.585281</td>\n",
       "      <td>-0.399005</td>\n",
       "      <td>2.116004</td>\n",
       "      <td>1.050744</td>\n",
       "      <td>1.00</td>\n",
       "      <td>1</td>\n",
       "    </tr>\n",
       "    <tr>\n",
       "      <th>42590</th>\n",
       "      <td>41164.0</td>\n",
       "      <td>-5.932778</td>\n",
       "      <td>4.571743</td>\n",
       "      <td>-9.427247</td>\n",
       "      <td>6.577056</td>\n",
       "      <td>-6.115218</td>\n",
       "      <td>-3.661798</td>\n",
       "      <td>-10.894079</td>\n",
       "      <td>3.709210</td>\n",
       "      <td>-5.859524</td>\n",
       "      <td>...</td>\n",
       "      <td>2.014272</td>\n",
       "      <td>-0.167417</td>\n",
       "      <td>0.049968</td>\n",
       "      <td>0.384430</td>\n",
       "      <td>-0.077884</td>\n",
       "      <td>0.565493</td>\n",
       "      <td>1.792012</td>\n",
       "      <td>0.371007</td>\n",
       "      <td>5.30</td>\n",
       "      <td>1</td>\n",
       "    </tr>\n",
       "    <tr>\n",
       "      <th>42887</th>\n",
       "      <td>41285.0</td>\n",
       "      <td>-12.835760</td>\n",
       "      <td>6.574615</td>\n",
       "      <td>-12.788462</td>\n",
       "      <td>8.786257</td>\n",
       "      <td>-10.723121</td>\n",
       "      <td>-2.813536</td>\n",
       "      <td>-14.248847</td>\n",
       "      <td>7.960521</td>\n",
       "      <td>-7.718751</td>\n",
       "      <td>...</td>\n",
       "      <td>2.679490</td>\n",
       "      <td>-0.047335</td>\n",
       "      <td>-0.836982</td>\n",
       "      <td>0.625349</td>\n",
       "      <td>0.125865</td>\n",
       "      <td>0.177624</td>\n",
       "      <td>-0.817680</td>\n",
       "      <td>-0.521030</td>\n",
       "      <td>37.32</td>\n",
       "      <td>1</td>\n",
       "    </tr>\n",
       "    <tr>\n",
       "      <th>43204</th>\n",
       "      <td>41413.0</td>\n",
       "      <td>-15.140450</td>\n",
       "      <td>7.378042</td>\n",
       "      <td>-16.356367</td>\n",
       "      <td>9.194935</td>\n",
       "      <td>-13.466163</td>\n",
       "      <td>-2.958431</td>\n",
       "      <td>-16.165539</td>\n",
       "      <td>10.075254</td>\n",
       "      <td>-7.901821</td>\n",
       "      <td>...</td>\n",
       "      <td>3.147428</td>\n",
       "      <td>0.341678</td>\n",
       "      <td>-1.150162</td>\n",
       "      <td>0.795190</td>\n",
       "      <td>-0.194542</td>\n",
       "      <td>0.145964</td>\n",
       "      <td>-2.458680</td>\n",
       "      <td>-1.189888</td>\n",
       "      <td>106.55</td>\n",
       "      <td>1</td>\n",
       "    </tr>\n",
       "    <tr>\n",
       "      <th>42958</th>\n",
       "      <td>41313.0</td>\n",
       "      <td>-13.897206</td>\n",
       "      <td>6.344280</td>\n",
       "      <td>-14.281666</td>\n",
       "      <td>5.581009</td>\n",
       "      <td>-12.887133</td>\n",
       "      <td>-3.146176</td>\n",
       "      <td>-15.450467</td>\n",
       "      <td>9.060281</td>\n",
       "      <td>-5.486121</td>\n",
       "      <td>...</td>\n",
       "      <td>3.058082</td>\n",
       "      <td>0.941180</td>\n",
       "      <td>-0.232710</td>\n",
       "      <td>0.763508</td>\n",
       "      <td>0.075456</td>\n",
       "      <td>-0.453840</td>\n",
       "      <td>-1.508968</td>\n",
       "      <td>-0.686836</td>\n",
       "      <td>9.99</td>\n",
       "      <td>1</td>\n",
       "    </tr>\n",
       "  </tbody>\n",
       "</table>\n",
       "<p>20 rows × 31 columns</p>\n",
       "</div>"
      ],
      "text/plain": [
       "           Time         V1        V2         V3        V4         V5  \\\n",
       "42473   41116.0  -3.600544  4.519047  -6.340884  6.214767  -5.829558   \n",
       "42609   41170.0  -6.498086  4.750515  -8.966558  7.098854  -6.958376   \n",
       "42528   41138.0  -4.595617  5.083690  -7.581015  7.546033  -6.949165   \n",
       "42674   41194.0  -7.896886  5.381020  -8.451162  7.963928  -7.862419   \n",
       "42635   41181.0  -7.334341  4.960892  -8.451410  8.174825  -7.237464   \n",
       "150665  93856.0  -6.750509  5.367416 -10.054635  9.064478  -7.968118   \n",
       "42856   41273.0 -11.682215  6.332882 -13.297109  7.690772 -10.889891   \n",
       "42549   41147.0  -5.314173  4.145944  -8.532522  8.344392  -5.718008   \n",
       "42741   41227.0  -9.001351  6.613284 -12.423635  7.519929 -10.266255   \n",
       "42936   41305.0 -12.980943  6.720508 -13.455636  8.698610 -11.479552   \n",
       "41943   40892.0  -2.140511  4.104871  -8.996859  4.028391  -5.131359   \n",
       "42696   41203.0  -8.426814  6.241659  -9.946470  8.199614  -8.213093   \n",
       "150692  93904.0 -11.320633  7.191950 -13.179083  9.099552 -10.094749   \n",
       "42945   41308.0 -13.680760  6.990389 -13.770001  8.694897 -11.426968   \n",
       "150644  93823.0  -3.821939  5.667247  -9.244963  8.246147  -4.368286   \n",
       "150601  93742.0  -3.291125  4.401194  -8.394212  4.453580  -4.790055   \n",
       "42590   41164.0  -5.932778  4.571743  -9.427247  6.577056  -6.115218   \n",
       "42887   41285.0 -12.835760  6.574615 -12.788462  8.786257 -10.723121   \n",
       "43204   41413.0 -15.140450  7.378042 -16.356367  9.194935 -13.466163   \n",
       "42958   41313.0 -13.897206  6.344280 -14.281666  5.581009 -12.887133   \n",
       "\n",
       "              V6         V7         V8        V9  ...       V21       V22  \\\n",
       "42473  -2.478095  -9.938412   2.830086 -5.659162  ...  2.263770  0.620749   \n",
       "42609  -2.822126 -10.333406   4.031907 -6.648778  ...  2.158143  0.111510   \n",
       "42528  -1.729185  -8.190192   2.714670 -7.083169  ...  2.248971  0.566844   \n",
       "42674  -2.376820 -11.949723   5.051356 -6.912076  ...  2.557944  0.926278   \n",
       "42635  -2.382711 -11.508842   4.635798 -6.557760  ...  2.153755  0.033922   \n",
       "150665 -2.263798 -10.317566   4.237666 -5.324109  ...  1.909032 -0.348740   \n",
       "42856  -2.792360 -12.561783   7.287122 -7.570322  ...  2.133456 -1.271509   \n",
       "42549  -3.043536 -10.989185   3.404129 -6.167234  ...  2.331466  0.862996   \n",
       "42741  -2.113208  -9.984287   5.541941 -7.383705  ...  1.775891 -1.224758   \n",
       "42936  -2.681519 -14.019291   8.218191 -7.930900  ...  2.549628 -0.532228   \n",
       "41943  -4.153568  -9.360095   1.922075 -4.026180  ...  1.854267 -0.165534   \n",
       "42696  -2.522046 -11.643028   5.339500 -7.051016  ...  2.427460  0.692667   \n",
       "150692 -2.440115 -14.184337   4.452503 -6.241960  ...  1.082235 -0.350563   \n",
       "42945  -2.919845 -14.594562   8.622905 -8.090697  ...  2.989553  0.497599   \n",
       "150644 -3.450735  -8.427378   2.305609 -5.338079  ...  1.990520  0.083353   \n",
       "150601 -4.240182  -9.219001   1.974030 -2.912943  ...  2.102343  0.597370   \n",
       "42590  -3.661798 -10.894079   3.709210 -5.859524  ...  2.014272 -0.167417   \n",
       "42887  -2.813536 -14.248847   7.960521 -7.718751  ...  2.679490 -0.047335   \n",
       "43204  -2.958431 -16.165539  10.075254 -7.901821  ...  3.147428  0.341678   \n",
       "42958  -3.146176 -15.450467   9.060281 -5.486121  ...  3.058082  0.941180   \n",
       "\n",
       "             V23       V24       V25       V26       V27       V28  Amount  \\\n",
       "42473  -0.094069  0.536719  0.398142  0.008277  2.053524  0.835749    3.79   \n",
       "42609   0.216414  0.584661  0.760360  0.081972  1.415068  0.035124   83.38   \n",
       "42528   0.033744  0.591783  0.334229  0.386801  2.163898  0.983104  340.11   \n",
       "42674   0.032795  0.638073  0.361887  0.444577  1.101923  0.205958    1.52   \n",
       "42635  -0.014095  0.625250 -0.053390  0.164709  1.411047  0.315645   11.38   \n",
       "150665  0.425001  0.674909 -0.784208 -0.247422  1.159581  0.197818  209.65   \n",
       "42856  -0.035304  0.615054  0.349024 -0.428923 -0.694935 -0.818970  173.07   \n",
       "42549  -0.614453  0.523648 -0.712593  0.324638  2.245091  0.497321   88.23   \n",
       "42741   0.082594  0.452089  0.463827 -0.296928  0.526506 -0.450890  459.07   \n",
       "42936  -0.235096  0.673209  0.226598 -0.006168 -1.185696 -0.747361   59.68   \n",
       "41943  -0.339939  0.296314  1.364225 -0.518996  2.352333  1.130625    0.76   \n",
       "42696   0.020305  0.499809  0.467594  0.483162  1.195671  0.198294   88.23   \n",
       "150692  0.483044  0.661133 -0.396522 -0.413315 -0.997548 -0.235036   37.93   \n",
       "42945  -0.509290  0.732503  0.280528  0.280037 -1.406687 -0.663643    0.76   \n",
       "150644 -0.062264  0.390188  0.329884  0.098017  1.869570  1.000850   75.86   \n",
       "150601 -0.328086  0.445752  0.585281 -0.399005  2.116004  1.050744    1.00   \n",
       "42590   0.049968  0.384430 -0.077884  0.565493  1.792012  0.371007    5.30   \n",
       "42887  -0.836982  0.625349  0.125865  0.177624 -0.817680 -0.521030   37.32   \n",
       "43204  -1.150162  0.795190 -0.194542  0.145964 -2.458680 -1.189888  106.55   \n",
       "42958  -0.232710  0.763508  0.075456 -0.453840 -1.508968 -0.686836    9.99   \n",
       "\n",
       "        Class  \n",
       "42473       1  \n",
       "42609       1  \n",
       "42528       1  \n",
       "42674       1  \n",
       "42635       1  \n",
       "150665      1  \n",
       "42856       1  \n",
       "42549       1  \n",
       "42741       1  \n",
       "42936       1  \n",
       "41943       1  \n",
       "42696       1  \n",
       "150692      1  \n",
       "42945       1  \n",
       "150644      1  \n",
       "150601      1  \n",
       "42590       1  \n",
       "42887       1  \n",
       "43204       1  \n",
       "42958       1  \n",
       "\n",
       "[20 rows x 31 columns]"
      ]
     },
     "execution_count": 15,
     "metadata": {},
     "output_type": "execute_result"
    }
   ],
   "source": [
    "df.sort_values(\"V17\", ascending = True).head(20)"
   ]
  },
  {
   "cell_type": "code",
   "execution_count": 16,
   "id": "15b674a9-2723-4043-9ddd-b78fb56aaba1",
   "metadata": {},
   "outputs": [
    {
     "data": {
      "image/png": "[encoded data removed]",
      "text/plain": [
       "<Figure size 640x480 with 1 Axes>"
      ]
     },
     "metadata": {},
     "output_type": "display_data"
    }
   ],
   "source": [
    "# Set variables for plot\n",
    "x = df[\"Time\"]\n",
    "y = df[\"Amount\"]\n",
    "# Plotting x-axis and y-axis\n",
    "plt.plot(x, y)\n",
    "# naming of x-axis and y-axis\n",
    "plt.xlabel(\"Time in Seconds\")\n",
    "plt.ylabel(\"Amount $\")\n",
    "# naming the title of the plot\n",
    "plt.title(\"Amount and Time\")\n",
    "\n",
    "# setting x-axis values\n",
    "plt.show()"
   ]
  },
  {
   "cell_type": "code",
   "execution_count": 17,
   "id": "745fe455",
   "metadata": {},
   "outputs": [],
   "source": [
    "class_counts = df[\"Class\"].value_counts()\n",
    "class_counts.index = class_counts.index.map({0: \"Not Fraud\", 1: \"Fraud\"})"
   ]
  },
  {
   "cell_type": "code",
   "execution_count": 18,
   "id": "09c123c7",
   "metadata": {},
   "outputs": [
    {
     "data": {
      "text/html": [
       "<iframe\n",
       "    scrolling=\"no\"\n",
       "    width=\"100%\"\n",
       "    height=\"545px\"\n",
       "    src=\"iframe_figures/figure_18.html\"\n",
       "    frameborder=\"0\"\n",
       "    allowfullscreen\n",
       "></iframe>\n"
      ]
     },
     "metadata": {},
     "output_type": "display_data"
    }
   ],
   "source": [
    "imbalance = px.bar(x = class_counts.index,\n",
    "       y = class_counts.values,\n",
    "       labels = {\"x\": \"Class\", \"y\": \"Count\"},\n",
    "       title = \"Distribution of Classes in Credit Card Transactions\",\n",
    "       color = class_counts.index,\n",
    "       color_discrete_sequence = [\"#636EFA\", \"#EF553B\"],\n",
    "       text = class_counts.values\n",
    ")\n",
    "imbalance.update_yaxes(type=\"log\")\n",
    "imbalance.update_layout(\n",
    "       xaxis_title=\"Class\",\n",
    "       yaxis_title=\"Count (log scale)\",\n",
    ")\n",
    "imbalance.show('iframe')"
   ]
  },
  {
   "cell_type": "code",
   "execution_count": 19,
   "id": "5fb16fec",
   "metadata": {},
   "outputs": [
    {
     "data": {
      "text/html": [
       "<iframe\n",
       "    scrolling=\"no\"\n",
       "    width=\"100%\"\n",
       "    height=\"545px\"\n",
       "    src=\"iframe_figures/figure_19.html\"\n",
       "    frameborder=\"0\"\n",
       "    allowfullscreen\n",
       "></iframe>\n"
      ]
     },
     "metadata": {},
     "output_type": "display_data"
    }
   ],
   "source": [
    "amount_distribution_fraudvsnotfraud = px.histogram(df,\n",
    "    x=\"Amount\",\n",
    "    color=\"Class\",\n",
    "    labels={\"Class\": \"Transaction Class\", \"Amount\": \"Transaction Amount\"},\n",
    "    title=\"Distribution of Transaction Amounts by Class\",\n",
    "    color_discrete_map={0: \"#636EFA\", 1: \"#EF553B\"},\n",
    "    nbins=50,\n",
    "    histnorm=\"probability density\",\n",
    "    marginal=\"box\")\n",
    "amount_distribution_fraudvsnotfraud.show('iframe')"
   ]
  },
  {
   "cell_type": "code",
   "execution_count": 20,
   "id": "f5d6bfe9-a0ec-4e91-b13b-eceb83e84c07",
   "metadata": {},
   "outputs": [
    {
     "data": {
      "image/png": "[encoded data removed]",
      "text/plain": [
       "<Figure size 640x480 with 2 Axes>"
      ]
     },
     "metadata": {},
     "output_type": "display_data"
    }
   ],
   "source": [
    "# What correlations can we see and what do we want to investigate\n",
    "sns.heatmap(df.corr(), annot = True)\n",
    "plt.rcParams['figure.figsize'] = (20,15)\n",
    "plt.show() # lighter boxes show how correlated they are"
   ]
  },
  {
   "cell_type": "code",
   "execution_count": 21,
   "id": "6756d7b4",
   "metadata": {},
   "outputs": [
    {
     "data": {
      "text/plain": [
       "dtype('int64')"
      ]
     },
     "execution_count": 21,
     "metadata": {},
     "output_type": "execute_result"
    }
   ],
   "source": [
    "df['Class'].dtype"
   ]
  },
  {
   "cell_type": "code",
   "execution_count": 22,
   "id": "32984cd6",
   "metadata": {},
   "outputs": [
    {
     "data": {
      "text/plain": [
       "Class     1.000000\n",
       "V11       0.154876\n",
       "V4        0.133447\n",
       "V2        0.091289\n",
       "V21       0.040413\n",
       "V19       0.034783\n",
       "V20       0.020090\n",
       "V8        0.019875\n",
       "V27       0.017580\n",
       "V28       0.009536\n",
       "Amount    0.005632\n",
       "V26       0.004455\n",
       "V25       0.003308\n",
       "V22       0.000805\n",
       "V23      -0.002685\n",
       "V15      -0.004223\n",
       "V13      -0.004570\n",
       "V24      -0.007221\n",
       "Time     -0.012323\n",
       "V6       -0.043643\n",
       "V5       -0.094974\n",
       "V9       -0.097733\n",
       "V1       -0.101347\n",
       "V18      -0.111485\n",
       "V7       -0.187257\n",
       "V3       -0.192961\n",
       "V16      -0.196539\n",
       "V10      -0.216883\n",
       "V12      -0.260593\n",
       "V14      -0.302544\n",
       "V17      -0.326481\n",
       "Name: Class, dtype: float64"
      ]
     },
     "execution_count": 22,
     "metadata": {},
     "output_type": "execute_result"
    }
   ],
   "source": [
    "# Lists the classes in order of the highest to least correlation.\n",
    "df.corr()['Class'].sort_values(ascending=False)"
   ]
  },
  {
   "cell_type": "code",
   "execution_count": 23,
   "id": "64a9c60a",
   "metadata": {},
   "outputs": [],
   "source": [
    "# Test train split for our data\n",
    "X_train, X_test, y_train, y_test = train_test_split(df.drop(columns=['Class']), df['Class'], test_size=0.2, random_state=42)"
   ]
  },
  {
   "cell_type": "code",
   "execution_count": 24,
   "id": "3bf37a73",
   "metadata": {},
   "outputs": [],
   "source": [
    "scaler = StandardScaler()"
   ]
  },
  {
   "cell_type": "code",
   "execution_count": 25,
   "id": "7116c95c",
   "metadata": {},
   "outputs": [],
   "source": [
    "X_train['Amount_scaled'] = scaler.fit_transform(X_train[['Amount']])\n",
    "X_test['Amount_scaled'] = scaler.transform(X_test[['Amount']])"
   ]
  },
  {
   "cell_type": "code",
   "execution_count": 26,
   "id": "674b96c2",
   "metadata": {},
   "outputs": [],
   "source": [
    "# random forest model\n",
    "model = RandomForestClassifier(\n",
    "    n_estimators=100, # sets number of decision trees\n",
    "    random_state=42, # random number for repeatability\n",
    "    class_weight='balanced',  # Apply weights here\n",
    "    n_jobs=-1) # uses all available CPU cores"
   ]
  },
  {
   "cell_type": "code",
   "execution_count": 27,
   "id": "122a8c5e-d134-4f99-8fb7-c5f468a01318",
   "metadata": {},
   "outputs": [
    {
     "name": "stdout",
     "output_type": "stream",
     "text": [
      "              precision    recall  f1-score   support\n",
      "\n",
      "           0       1.00      1.00      1.00     56864\n",
      "           1       0.97      0.73      0.84        98\n",
      "\n",
      "    accuracy                           1.00     56962\n",
      "   macro avg       0.99      0.87      0.92     56962\n",
      "weighted avg       1.00      1.00      1.00     56962\n",
      "\n"
     ]
    },
    {
     "data": {
      "application/vnd.plotly.v1+json": {
       "config": {
        "plotlyServerURL": "https://plot.ly"
       },
       "data": [
        {
         "coloraxis": "coloraxis",
         "hovertemplate": "Predicted Label: %{x}<br>True Label: %{y}<br>Count: %{z}<extra></extra>",
         "name": "0",
         "texttemplate": "%{z}",
         "type": "heatmap",
         "x": [
          "Not Fraud",
          "Fraud"
         ],
         "xaxis": "x",
         "y": [
          "Not Fraud",
          "Fraud"
         ],
         "yaxis": "y",
         "z": [
          [
           56862,
           2
          ],
          [
           26,
           72
          ]
         ]
        }
       ],
       "layout": {
        "coloraxis": {
         "colorbar": {
          "title": {
           "text": "Count"
          }
         },
         "colorscale": [
          [
           0,
           "rgb(247,251,255)"
          ],
          [
           0.125,
           "rgb(222,235,247)"
          ],
          [
           0.25,
           "rgb(198,219,239)"
          ],
          [
           0.375,
           "rgb(158,202,225)"
          ],
          [
           0.5,
           "rgb(107,174,214)"
          ],
          [
           0.625,
           "rgb(66,146,198)"
          ],
          [
           0.75,
           "rgb(33,113,181)"
          ],
          [
           0.875,
           "rgb(8,81,156)"
          ],
          [
           1,
           "rgb(8,48,107)"
          ]
         ]
        },
        "template": {
         "data": {
          "bar": [
           {
            "error_x": {
             "color": "#2a3f5f"
            },
            "error_y": {
             "color": "#2a3f5f"
            },
            "marker": {
             "line": {
              "color": "#E5ECF6",
              "width": 0.5
             },
             "pattern": {
              "fillmode": "overlay",
              "size": 10,
              "solidity": 0.2
             }
            },
            "type": "bar"
           }
          ],
          "barpolar": [
           {
            "marker": {
             "line": {
              "color": "#E5ECF6",
              "width": 0.5
             },
             "pattern": {
              "fillmode": "overlay",
              "size": 10,
              "solidity": 0.2
             }
            },
            "type": "barpolar"
           }
          ],
          "carpet": [
           {
            "aaxis": {
             "endlinecolor": "#2a3f5f",
             "gridcolor": "white",
             "linecolor": "white",
             "minorgridcolor": "white",
             "startlinecolor": "#2a3f5f"
            },
            "baxis": {
             "endlinecolor": "#2a3f5f",
             "gridcolor": "white",
             "linecolor": "white",
             "minorgridcolor": "white",
             "startlinecolor": "#2a3f5f"
            },
            "type": "carpet"
           }
          ],
          "choropleth": [
           {
            "colorbar": {
             "outlinewidth": 0,
             "ticks": ""
            },
            "type": "choropleth"
           }
          ],
          "contour": [
           {
            "colorbar": {
             "outlinewidth": 0,
             "ticks": ""
            },
            "colorscale": [
             [
              0,
              "#0d0887"
             ],
             [
              0.1111111111111111,
              "#46039f"
             ],
             [
              0.2222222222222222,
              "#7201a8"
             ],
             [
              0.3333333333333333,
              "#9c179e"
             ],
             [
              0.4444444444444444,
              "#bd3786"
             ],
             [
              0.5555555555555556,
              "#d8576b"
             ],
             [
              0.6666666666666666,
              "#ed7953"
             ],
             [
              0.7777777777777778,
              "#fb9f3a"
             ],
             [
              0.8888888888888888,
              "#fdca26"
             ],
             [
              1,
              "#f0f921"
             ]
            ],
            "type": "contour"
           }
          ],
          "contourcarpet": [
           {
            "colorbar": {
             "outlinewidth": 0,
             "ticks": ""
            },
            "type": "contourcarpet"
           }
          ],
          "heatmap": [
           {
            "colorbar": {
             "outlinewidth": 0,
             "ticks": ""
            },
            "colorscale": [
             [
              0,
              "#0d0887"
             ],
             [
              0.1111111111111111,
              "#46039f"
             ],
             [
              0.2222222222222222,
              "#7201a8"
             ],
             [
              0.3333333333333333,
              "#9c179e"
             ],
             [
              0.4444444444444444,
              "#bd3786"
             ],
             [
              0.5555555555555556,
              "#d8576b"
             ],
             [
              0.6666666666666666,
              "#ed7953"
             ],
             [
              0.7777777777777778,
              "#fb9f3a"
             ],
             [
              0.8888888888888888,
              "#fdca26"
             ],
             [
              1,
              "#f0f921"
             ]
            ],
            "type": "heatmap"
           }
          ],
          "heatmapgl": [
           {
            "colorbar": {
             "outlinewidth": 0,
             "ticks": ""
            },
            "colorscale": [
             [
              0,
              "#0d0887"
             ],
             [
              0.1111111111111111,
              "#46039f"
             ],
             [
              0.2222222222222222,
              "#7201a8"
             ],
             [
              0.3333333333333333,
              "#9c179e"
             ],
             [
              0.4444444444444444,
              "#bd3786"
             ],
             [
              0.5555555555555556,
              "#d8576b"
             ],
             [
              0.6666666666666666,
              "#ed7953"
             ],
             [
              0.7777777777777778,
              "#fb9f3a"
             ],
             [
              0.8888888888888888,
              "#fdca26"
             ],
             [
              1,
              "#f0f921"
             ]
            ],
            "type": "heatmapgl"
           }
          ],
          "histogram": [
           {
            "marker": {
             "pattern": {
              "fillmode": "overlay",
              "size": 10,
              "solidity": 0.2
             }
            },
            "type": "histogram"
           }
          ],
          "histogram2d": [
           {
            "colorbar": {
             "outlinewidth": 0,
             "ticks": ""
            },
            "colorscale": [
             [
              0,
              "#0d0887"
             ],
             [
              0.1111111111111111,
              "#46039f"
             ],
             [
              0.2222222222222222,
              "#7201a8"
             ],
             [
              0.3333333333333333,
              "#9c179e"
             ],
             [
              0.4444444444444444,
              "#bd3786"
             ],
             [
              0.5555555555555556,
              "#d8576b"
             ],
             [
              0.6666666666666666,
              "#ed7953"
             ],
             [
              0.7777777777777778,
              "#fb9f3a"
             ],
             [
              0.8888888888888888,
              "#fdca26"
             ],
             [
              1,
              "#f0f921"
             ]
            ],
            "type": "histogram2d"
           }
          ],
          "histogram2dcontour": [
           {
            "colorbar": {
             "outlinewidth": 0,
             "ticks": ""
            },
            "colorscale": [
             [
              0,
              "#0d0887"
             ],
             [
              0.1111111111111111,
              "#46039f"
             ],
             [
              0.2222222222222222,
              "#7201a8"
             ],
             [
              0.3333333333333333,
              "#9c179e"
             ],
             [
              0.4444444444444444,
              "#bd3786"
             ],
             [
              0.5555555555555556,
              "#d8576b"
             ],
             [
              0.6666666666666666,
              "#ed7953"
             ],
             [
              0.7777777777777778,
              "#fb9f3a"
             ],
             [
              0.8888888888888888,
              "#fdca26"
             ],
             [
              1,
              "#f0f921"
             ]
            ],
            "type": "histogram2dcontour"
           }
          ],
          "mesh3d": [
           {
            "colorbar": {
             "outlinewidth": 0,
             "ticks": ""
            },
            "type": "mesh3d"
           }
          ],
          "parcoords": [
           {
            "line": {
             "colorbar": {
              "outlinewidth": 0,
              "ticks": ""
             }
            },
            "type": "parcoords"
           }
          ],
          "pie": [
           {
            "automargin": true,
            "type": "pie"
           }
          ],
          "scatter": [
           {
            "fillpattern": {
             "fillmode": "overlay",
             "size": 10,
             "solidity": 0.2
            },
            "type": "scatter"
           }
          ],
          "scatter3d": [
           {
            "line": {
             "colorbar": {
              "outlinewidth": 0,
              "ticks": ""
             }
            },
            "marker": {
             "colorbar": {
              "outlinewidth": 0,
              "ticks": ""
             }
            },
            "type": "scatter3d"
           }
          ],
          "scattercarpet": [
           {
            "marker": {
             "colorbar": {
              "outlinewidth": 0,
              "ticks": ""
             }
            },
            "type": "scattercarpet"
           }
          ],
          "scattergeo": [
           {
            "marker": {
             "colorbar": {
              "outlinewidth": 0,
              "ticks": ""
             }
            },
            "type": "scattergeo"
           }
          ],
          "scattergl": [
           {
            "marker": {
             "colorbar": {
              "outlinewidth": 0,
              "ticks": ""
             }
            },
            "type": "scattergl"
           }
          ],
          "scattermapbox": [
           {
            "marker": {
             "colorbar": {
              "outlinewidth": 0,
              "ticks": ""
             }
            },
            "type": "scattermapbox"
           }
          ],
          "scatterpolar": [
           {
            "marker": {
             "colorbar": {
              "outlinewidth": 0,
              "ticks": ""
             }
            },
            "type": "scatterpolar"
           }
          ],
          "scatterpolargl": [
           {
            "marker": {
             "colorbar": {
              "outlinewidth": 0,
              "ticks": ""
             }
            },
            "type": "scatterpolargl"
           }
          ],
          "scatterternary": [
           {
            "marker": {
             "colorbar": {
              "outlinewidth": 0,
              "ticks": ""
             }
            },
            "type": "scatterternary"
           }
          ],
          "surface": [
           {
            "colorbar": {
             "outlinewidth": 0,
             "ticks": ""
            },
            "colorscale": [
             [
              0,
              "#0d0887"
             ],
             [
              0.1111111111111111,
              "#46039f"
             ],
             [
              0.2222222222222222,
              "#7201a8"
             ],
             [
              0.3333333333333333,
              "#9c179e"
             ],
             [
              0.4444444444444444,
              "#bd3786"
             ],
             [
              0.5555555555555556,
              "#d8576b"
             ],
             [
              0.6666666666666666,
              "#ed7953"
             ],
             [
              0.7777777777777778,
              "#fb9f3a"
             ],
             [
              0.8888888888888888,
              "#fdca26"
             ],
             [
              1,
              "#f0f921"
             ]
            ],
            "type": "surface"
           }
          ],
          "table": [
           {
            "cells": {
             "fill": {
              "color": "#EBF0F8"
             },
             "line": {
              "color": "white"
             }
            },
            "header": {
             "fill": {
              "color": "#C8D4E3"
             },
             "line": {
              "color": "white"
             }
            },
            "type": "table"
           }
          ]
         },
         "layout": {
          "annotationdefaults": {
           "arrowcolor": "#2a3f5f",
           "arrowhead": 0,
           "arrowwidth": 1
          },
          "autotypenumbers": "strict",
          "coloraxis": {
           "colorbar": {
            "outlinewidth": 0,
            "ticks": ""
           }
          },
          "colorscale": {
           "diverging": [
            [
             0,
             "#8e0152"
            ],
            [
             0.1,
             "#c51b7d"
            ],
            [
             0.2,
             "#de77ae"
            ],
            [
             0.3,
             "#f1b6da"
            ],
            [
             0.4,
             "#fde0ef"
            ],
            [
             0.5,
             "#f7f7f7"
            ],
            [
             0.6,
             "#e6f5d0"
            ],
            [
             0.7,
             "#b8e186"
            ],
            [
             0.8,
             "#7fbc41"
            ],
            [
             0.9,
             "#4d9221"
            ],
            [
             1,
             "#276419"
            ]
           ],
           "sequential": [
            [
             0,
             "#0d0887"
            ],
            [
             0.1111111111111111,
             "#46039f"
            ],
            [
             0.2222222222222222,
             "#7201a8"
            ],
            [
             0.3333333333333333,
             "#9c179e"
            ],
            [
             0.4444444444444444,
             "#bd3786"
            ],
            [
             0.5555555555555556,
             "#d8576b"
            ],
            [
             0.6666666666666666,
             "#ed7953"
            ],
            [
             0.7777777777777778,
             "#fb9f3a"
            ],
            [
             0.8888888888888888,
             "#fdca26"
            ],
            [
             1,
             "#f0f921"
            ]
           ],
           "sequentialminus": [
            [
             0,
             "#0d0887"
            ],
            [
             0.1111111111111111,
             "#46039f"
            ],
            [
             0.2222222222222222,
             "#7201a8"
            ],
            [
             0.3333333333333333,
             "#9c179e"
            ],
            [
             0.4444444444444444,
             "#bd3786"
            ],
            [
             0.5555555555555556,
             "#d8576b"
            ],
            [
             0.6666666666666666,
             "#ed7953"
            ],
            [
             0.7777777777777778,
             "#fb9f3a"
            ],
            [
             0.8888888888888888,
             "#fdca26"
            ],
            [
             1,
             "#f0f921"
            ]
           ]
          },
          "colorway": [
           "#636efa",
           "#EF553B",
           "#00cc96",
           "#ab63fa",
           "#FFA15A",
           "#19d3f3",
           "#FF6692",
           "#B6E880",
           "#FF97FF",
           "#FECB52"
          ],
          "font": {
           "color": "#2a3f5f"
          },
          "geo": {
           "bgcolor": "white",
           "lakecolor": "white",
           "landcolor": "#E5ECF6",
           "showlakes": true,
           "showland": true,
           "subunitcolor": "white"
          },
          "hoverlabel": {
           "align": "left"
          },
          "hovermode": "closest",
          "mapbox": {
           "style": "light"
          },
          "paper_bgcolor": "white",
          "plot_bgcolor": "#E5ECF6",
          "polar": {
           "angularaxis": {
            "gridcolor": "white",
            "linecolor": "white",
            "ticks": ""
           },
           "bgcolor": "#E5ECF6",
           "radialaxis": {
            "gridcolor": "white",
            "linecolor": "white",
            "ticks": ""
           }
          },
          "scene": {
           "xaxis": {
            "backgroundcolor": "#E5ECF6",
            "gridcolor": "white",
            "gridwidth": 2,
            "linecolor": "white",
            "showbackground": true,
            "ticks": "",
            "zerolinecolor": "white"
           },
           "yaxis": {
            "backgroundcolor": "#E5ECF6",
            "gridcolor": "white",
            "gridwidth": 2,
            "linecolor": "white",
            "showbackground": true,
            "ticks": "",
            "zerolinecolor": "white"
           },
           "zaxis": {
            "backgroundcolor": "#E5ECF6",
            "gridcolor": "white",
            "gridwidth": 2,
            "linecolor": "white",
            "showbackground": true,
            "ticks": "",
            "zerolinecolor": "white"
           }
          },
          "shapedefaults": {
           "line": {
            "color": "#2a3f5f"
           }
          },
          "ternary": {
           "aaxis": {
            "gridcolor": "white",
            "linecolor": "white",
            "ticks": ""
           },
           "baxis": {
            "gridcolor": "white",
            "linecolor": "white",
            "ticks": ""
           },
           "bgcolor": "#E5ECF6",
           "caxis": {
            "gridcolor": "white",
            "linecolor": "white",
            "ticks": ""
           }
          },
          "title": {
           "x": 0.05
          },
          "xaxis": {
           "automargin": true,
           "gridcolor": "white",
           "linecolor": "white",
           "ticks": "",
           "title": {
            "standoff": 15
           },
           "zerolinecolor": "white",
           "zerolinewidth": 2
          },
          "yaxis": {
           "automargin": true,
           "gridcolor": "white",
           "linecolor": "white",
           "ticks": "",
           "title": {
            "standoff": 15
           },
           "zerolinecolor": "white",
           "zerolinewidth": 2
          }
         }
        },
        "title": {
         "text": "Confusion Matrix"
        },
        "xaxis": {
         "anchor": "y",
         "constrain": "domain",
         "domain": [
          0,
          1
         ],
         "scaleanchor": "y",
         "title": {
          "text": "Predicted Label"
         }
        },
        "yaxis": {
         "anchor": "x",
         "autorange": "reversed",
         "constrain": "domain",
         "domain": [
          0,
          1
         ],
         "title": {
          "text": "True Label"
         }
        }
       }
      }
     },
     "metadata": {},
     "output_type": "display_data"
    }
   ],
   "source": [
    "dropped = ['Amount', 'Time']\n",
    "X_train_drop = X_train.drop(columns=dropped)\n",
    "X_test_drop = X_test.drop(columns=dropped)\n",
    "\n",
    "model.fit(X_train_drop, y_train)\n",
    "y_pred = model.predict(X_test_drop)\n",
    "\n",
    "print(classification_report(y_test, y_pred))\n",
    "px.imshow(confusion_matrix(y_test, y_pred),\n",
    "    labels=dict(x=\"Predicted Label\", y=\"True Label\", color=\"Count\"),\n",
    "    x=[\"Not Fraud\", \"Fraud\"],\n",
    "    y=[\"Not Fraud\", \"Fraud\"],\n",
    "    title=\"Confusion Matrix\",\n",
    "    text_auto=True,\n",
    "    color_continuous_scale='Blues'\n",
    ").show()"
   ]
  },
  {
   "cell_type": "code",
   "execution_count": 28,
   "id": "81a940c5",
   "metadata": {},
   "outputs": [
    {
     "name": "stdout",
     "output_type": "stream",
     "text": [
      "Cross-validation scores: [0.99951722 0.99938555 0.99947333 0.99953916 0.99949527]\n",
      "Average cross-validation score: 0.9994821040619719\n"
     ]
    }
   ],
   "source": [
    "scores = cross_val_score(model,X_train_drop, y_train, cv=5)\n",
    "print(\"Cross-validation scores:\", scores)\n",
    "print(\"Average cross-validation score:\", np.mean(scores))"
   ]
  },
  {
   "cell_type": "code",
   "execution_count": 29,
   "id": "1280e597",
   "metadata": {},
   "outputs": [
    {
     "data": {
      "text/plain": [
       "array([0.89097069, 0.82910293, 0.86705563, 0.87972485, 0.88602099])"
      ]
     },
     "execution_count": 29,
     "metadata": {},
     "output_type": "execute_result"
    }
   ],
   "source": [
    "from sklearn.metrics import recall_score\n",
    "scoring = ['precision_macro', 'recall_macro']\n",
    "scores = cross_validate(model, X_train.drop(columns=['Amount','Time']), y_train, scoring=scoring)\n",
    "sorted(scores.keys())\n",
    "['fit_time', 'score_time', 'test_precision_macro', 'test_recall_macro']\n",
    "scores['test_recall_macro']"
   ]
  },
  {
   "cell_type": "code",
   "execution_count": 30,
   "id": "596eeb38",
   "metadata": {},
   "outputs": [],
   "source": [
    "model2 = RandomForestClassifier(random_state=42, n_jobs=-1, class_weight='balanced')\n"
   ]
  },
  {
   "cell_type": "code",
   "execution_count": 31,
   "id": "60a0dfb0",
   "metadata": {},
   "outputs": [
    {
     "name": "stdout",
     "output_type": "stream",
     "text": [
      "Best parameters found:  {'max_depth': 10, 'min_samples_split': 2, 'n_estimators': 100}\n",
      "              precision    recall  f1-score   support\n",
      "\n",
      "           0       1.00      1.00      1.00     56864\n",
      "           1       0.87      0.83      0.85        98\n",
      "\n",
      "    accuracy                           1.00     56962\n",
      "   macro avg       0.94      0.91      0.92     56962\n",
      "weighted avg       1.00      1.00      1.00     56962\n",
      "\n"
     ]
    },
    {
     "data": {
      "application/vnd.plotly.v1+json": {
       "config": {
        "plotlyServerURL": "https://plot.ly"
       },
       "data": [
        {
         "coloraxis": "coloraxis",
         "hovertemplate": "Predicted Label: %{x}<br>True Label: %{y}<br>Count: %{z}<extra></extra>",
         "name": "0",
         "texttemplate": "%{z}",
         "type": "heatmap",
         "x": [
          "Not Fraud",
          "Fraud"
         ],
         "xaxis": "x",
         "y": [
          "Not Fraud",
          "Fraud"
         ],
         "yaxis": "y",
         "z": [
          [
           56852,
           12
          ],
          [
           17,
           81
          ]
         ]
        }
       ],
       "layout": {
        "coloraxis": {
         "colorbar": {
          "title": {
           "text": "Count"
          }
         },
         "colorscale": [
          [
           0,
           "rgb(247,251,255)"
          ],
          [
           0.125,
           "rgb(222,235,247)"
          ],
          [
           0.25,
           "rgb(198,219,239)"
          ],
          [
           0.375,
           "rgb(158,202,225)"
          ],
          [
           0.5,
           "rgb(107,174,214)"
          ],
          [
           0.625,
           "rgb(66,146,198)"
          ],
          [
           0.75,
           "rgb(33,113,181)"
          ],
          [
           0.875,
           "rgb(8,81,156)"
          ],
          [
           1,
           "rgb(8,48,107)"
          ]
         ]
        },
        "template": {
         "data": {
          "bar": [
           {
            "error_x": {
             "color": "#2a3f5f"
            },
            "error_y": {
             "color": "#2a3f5f"
            },
            "marker": {
             "line": {
              "color": "#E5ECF6",
              "width": 0.5
             },
             "pattern": {
              "fillmode": "overlay",
              "size": 10,
              "solidity": 0.2
             }
            },
            "type": "bar"
           }
          ],
          "barpolar": [
           {
            "marker": {
             "line": {
              "color": "#E5ECF6",
              "width": 0.5
             },
             "pattern": {
              "fillmode": "overlay",
              "size": 10,
              "solidity": 0.2
             }
            },
            "type": "barpolar"
           }
          ],
          "carpet": [
           {
            "aaxis": {
             "endlinecolor": "#2a3f5f",
             "gridcolor": "white",
             "linecolor": "white",
             "minorgridcolor": "white",
             "startlinecolor": "#2a3f5f"
            },
            "baxis": {
             "endlinecolor": "#2a3f5f",
             "gridcolor": "white",
             "linecolor": "white",
             "minorgridcolor": "white",
             "startlinecolor": "#2a3f5f"
            },
            "type": "carpet"
           }
          ],
          "choropleth": [
           {
            "colorbar": {
             "outlinewidth": 0,
             "ticks": ""
            },
            "type": "choropleth"
           }
          ],
          "contour": [
           {
            "colorbar": {
             "outlinewidth": 0,
             "ticks": ""
            },
            "colorscale": [
             [
              0,
              "#0d0887"
             ],
             [
              0.1111111111111111,
              "#46039f"
             ],
             [
              0.2222222222222222,
              "#7201a8"
             ],
             [
              0.3333333333333333,
              "#9c179e"
             ],
             [
              0.4444444444444444,
              "#bd3786"
             ],
             [
              0.5555555555555556,
              "#d8576b"
             ],
             [
              0.6666666666666666,
              "#ed7953"
             ],
             [
              0.7777777777777778,
              "#fb9f3a"
             ],
             [
              0.8888888888888888,
              "#fdca26"
             ],
             [
              1,
              "#f0f921"
             ]
            ],
            "type": "contour"
           }
          ],
          "contourcarpet": [
           {
            "colorbar": {
             "outlinewidth": 0,
             "ticks": ""
            },
            "type": "contourcarpet"
           }
          ],
          "heatmap": [
           {
            "colorbar": {
             "outlinewidth": 0,
             "ticks": ""
            },
            "colorscale": [
             [
              0,
              "#0d0887"
             ],
             [
              0.1111111111111111,
              "#46039f"
             ],
             [
              0.2222222222222222,
              "#7201a8"
             ],
             [
              0.3333333333333333,
              "#9c179e"
             ],
             [
              0.4444444444444444,
              "#bd3786"
             ],
             [
              0.5555555555555556,
              "#d8576b"
             ],
             [
              0.6666666666666666,
              "#ed7953"
             ],
             [
              0.7777777777777778,
              "#fb9f3a"
             ],
             [
              0.8888888888888888,
              "#fdca26"
             ],
             [
              1,
              "#f0f921"
             ]
            ],
            "type": "heatmap"
           }
          ],
          "heatmapgl": [
           {
            "colorbar": {
             "outlinewidth": 0,
             "ticks": ""
            },
            "colorscale": [
             [
              0,
              "#0d0887"
             ],
             [
              0.1111111111111111,
              "#46039f"
             ],
             [
              0.2222222222222222,
              "#7201a8"
             ],
             [
              0.3333333333333333,
              "#9c179e"
             ],
             [
              0.4444444444444444,
              "#bd3786"
             ],
             [
              0.5555555555555556,
              "#d8576b"
             ],
             [
              0.6666666666666666,
              "#ed7953"
             ],
             [
              0.7777777777777778,
              "#fb9f3a"
             ],
             [
              0.8888888888888888,
              "#fdca26"
             ],
             [
              1,
              "#f0f921"
             ]
            ],
            "type": "heatmapgl"
           }
          ],
          "histogram": [
           {
            "marker": {
             "pattern": {
              "fillmode": "overlay",
              "size": 10,
              "solidity": 0.2
             }
            },
            "type": "histogram"
           }
          ],
          "histogram2d": [
           {
            "colorbar": {
             "outlinewidth": 0,
             "ticks": ""
            },
            "colorscale": [
             [
              0,
              "#0d0887"
             ],
             [
              0.1111111111111111,
              "#46039f"
             ],
             [
              0.2222222222222222,
              "#7201a8"
             ],
             [
              0.3333333333333333,
              "#9c179e"
             ],
             [
              0.4444444444444444,
              "#bd3786"
             ],
             [
              0.5555555555555556,
              "#d8576b"
             ],
             [
              0.6666666666666666,
              "#ed7953"
             ],
             [
              0.7777777777777778,
              "#fb9f3a"
             ],
             [
              0.8888888888888888,
              "#fdca26"
             ],
             [
              1,
              "#f0f921"
             ]
            ],
            "type": "histogram2d"
           }
          ],
          "histogram2dcontour": [
           {
            "colorbar": {
             "outlinewidth": 0,
             "ticks": ""
            },
            "colorscale": [
             [
              0,
              "#0d0887"
             ],
             [
              0.1111111111111111,
              "#46039f"
             ],
             [
              0.2222222222222222,
              "#7201a8"
             ],
             [
              0.3333333333333333,
              "#9c179e"
             ],
             [
              0.4444444444444444,
              "#bd3786"
             ],
             [
              0.5555555555555556,
              "#d8576b"
             ],
             [
              0.6666666666666666,
              "#ed7953"
             ],
             [
              0.7777777777777778,
              "#fb9f3a"
             ],
             [
              0.8888888888888888,
              "#fdca26"
             ],
             [
              1,
              "#f0f921"
             ]
            ],
            "type": "histogram2dcontour"
           }
          ],
          "mesh3d": [
           {
            "colorbar": {
             "outlinewidth": 0,
             "ticks": ""
            },
            "type": "mesh3d"
           }
          ],
          "parcoords": [
           {
            "line": {
             "colorbar": {
              "outlinewidth": 0,
              "ticks": ""
             }
            },
            "type": "parcoords"
           }
          ],
          "pie": [
           {
            "automargin": true,
            "type": "pie"
           }
          ],
          "scatter": [
           {
            "fillpattern": {
             "fillmode": "overlay",
             "size": 10,
             "solidity": 0.2
            },
            "type": "scatter"
           }
          ],
          "scatter3d": [
           {
            "line": {
             "colorbar": {
              "outlinewidth": 0,
              "ticks": ""
             }
            },
            "marker": {
             "colorbar": {
              "outlinewidth": 0,
              "ticks": ""
             }
            },
            "type": "scatter3d"
           }
          ],
          "scattercarpet": [
           {
            "marker": {
             "colorbar": {
              "outlinewidth": 0,
              "ticks": ""
             }
            },
            "type": "scattercarpet"
           }
          ],
          "scattergeo": [
           {
            "marker": {
             "colorbar": {
              "outlinewidth": 0,
              "ticks": ""
             }
            },
            "type": "scattergeo"
           }
          ],
          "scattergl": [
           {
            "marker": {
             "colorbar": {
              "outlinewidth": 0,
              "ticks": ""
             }
            },
            "type": "scattergl"
           }
          ],
          "scattermapbox": [
           {
            "marker": {
             "colorbar": {
              "outlinewidth": 0,
              "ticks": ""
             }
            },
            "type": "scattermapbox"
           }
          ],
          "scatterpolar": [
           {
            "marker": {
             "colorbar": {
              "outlinewidth": 0,
              "ticks": ""
             }
            },
            "type": "scatterpolar"
           }
          ],
          "scatterpolargl": [
           {
            "marker": {
             "colorbar": {
              "outlinewidth": 0,
              "ticks": ""
             }
            },
            "type": "scatterpolargl"
           }
          ],
          "scatterternary": [
           {
            "marker": {
             "colorbar": {
              "outlinewidth": 0,
              "ticks": ""
             }
            },
            "type": "scatterternary"
           }
          ],
          "surface": [
           {
            "colorbar": {
             "outlinewidth": 0,
             "ticks": ""
            },
            "colorscale": [
             [
              0,
              "#0d0887"
             ],
             [
              0.1111111111111111,
              "#46039f"
             ],
             [
              0.2222222222222222,
              "#7201a8"
             ],
             [
              0.3333333333333333,
              "#9c179e"
             ],
             [
              0.4444444444444444,
              "#bd3786"
             ],
             [
              0.5555555555555556,
              "#d8576b"
             ],
             [
              0.6666666666666666,
              "#ed7953"
             ],
             [
              0.7777777777777778,
              "#fb9f3a"
             ],
             [
              0.8888888888888888,
              "#fdca26"
             ],
             [
              1,
              "#f0f921"
             ]
            ],
            "type": "surface"
           }
          ],
          "table": [
           {
            "cells": {
             "fill": {
              "color": "#EBF0F8"
             },
             "line": {
              "color": "white"
             }
            },
            "header": {
             "fill": {
              "color": "#C8D4E3"
             },
             "line": {
              "color": "white"
             }
            },
            "type": "table"
           }
          ]
         },
         "layout": {
          "annotationdefaults": {
           "arrowcolor": "#2a3f5f",
           "arrowhead": 0,
           "arrowwidth": 1
          },
          "autotypenumbers": "strict",
          "coloraxis": {
           "colorbar": {
            "outlinewidth": 0,
            "ticks": ""
           }
          },
          "colorscale": {
           "diverging": [
            [
             0,
             "#8e0152"
            ],
            [
             0.1,
             "#c51b7d"
            ],
            [
             0.2,
             "#de77ae"
            ],
            [
             0.3,
             "#f1b6da"
            ],
            [
             0.4,
             "#fde0ef"
            ],
            [
             0.5,
             "#f7f7f7"
            ],
            [
             0.6,
             "#e6f5d0"
            ],
            [
             0.7,
             "#b8e186"
            ],
            [
             0.8,
             "#7fbc41"
            ],
            [
             0.9,
             "#4d9221"
            ],
            [
             1,
             "#276419"
            ]
           ],
           "sequential": [
            [
             0,
             "#0d0887"
            ],
            [
             0.1111111111111111,
             "#46039f"
            ],
            [
             0.2222222222222222,
             "#7201a8"
            ],
            [
             0.3333333333333333,
             "#9c179e"
            ],
            [
             0.4444444444444444,
             "#bd3786"
            ],
            [
             0.5555555555555556,
             "#d8576b"
            ],
            [
             0.6666666666666666,
             "#ed7953"
            ],
            [
             0.7777777777777778,
             "#fb9f3a"
            ],
            [
             0.8888888888888888,
             "#fdca26"
            ],
            [
             1,
             "#f0f921"
            ]
           ],
           "sequentialminus": [
            [
             0,
             "#0d0887"
            ],
            [
             0.1111111111111111,
             "#46039f"
            ],
            [
             0.2222222222222222,
             "#7201a8"
            ],
            [
             0.3333333333333333,
             "#9c179e"
            ],
            [
             0.4444444444444444,
             "#bd3786"
            ],
            [
             0.5555555555555556,
             "#d8576b"
            ],
            [
             0.6666666666666666,
             "#ed7953"
            ],
            [
             0.7777777777777778,
             "#fb9f3a"
            ],
            [
             0.8888888888888888,
             "#fdca26"
            ],
            [
             1,
             "#f0f921"
            ]
           ]
          },
          "colorway": [
           "#636efa",
           "#EF553B",
           "#00cc96",
           "#ab63fa",
           "#FFA15A",
           "#19d3f3",
           "#FF6692",
           "#B6E880",
           "#FF97FF",
           "#FECB52"
          ],
          "font": {
           "color": "#2a3f5f"
          },
          "geo": {
           "bgcolor": "white",
           "lakecolor": "white",
           "landcolor": "#E5ECF6",
           "showlakes": true,
           "showland": true,
           "subunitcolor": "white"
          },
          "hoverlabel": {
           "align": "left"
          },
          "hovermode": "closest",
          "mapbox": {
           "style": "light"
          },
          "paper_bgcolor": "white",
          "plot_bgcolor": "#E5ECF6",
          "polar": {
           "angularaxis": {
            "gridcolor": "white",
            "linecolor": "white",
            "ticks": ""
           },
           "bgcolor": "#E5ECF6",
           "radialaxis": {
            "gridcolor": "white",
            "linecolor": "white",
            "ticks": ""
           }
          },
          "scene": {
           "xaxis": {
            "backgroundcolor": "#E5ECF6",
            "gridcolor": "white",
            "gridwidth": 2,
            "linecolor": "white",
            "showbackground": true,
            "ticks": "",
            "zerolinecolor": "white"
           },
           "yaxis": {
            "backgroundcolor": "#E5ECF6",
            "gridcolor": "white",
            "gridwidth": 2,
            "linecolor": "white",
            "showbackground": true,
            "ticks": "",
            "zerolinecolor": "white"
           },
           "zaxis": {
            "backgroundcolor": "#E5ECF6",
            "gridcolor": "white",
            "gridwidth": 2,
            "linecolor": "white",
            "showbackground": true,
            "ticks": "",
            "zerolinecolor": "white"
           }
          },
          "shapedefaults": {
           "line": {
            "color": "#2a3f5f"
           }
          },
          "ternary": {
           "aaxis": {
            "gridcolor": "white",
            "linecolor": "white",
            "ticks": ""
           },
           "baxis": {
            "gridcolor": "white",
            "linecolor": "white",
            "ticks": ""
           },
           "bgcolor": "#E5ECF6",
           "caxis": {
            "gridcolor": "white",
            "linecolor": "white",
            "ticks": ""
           }
          },
          "title": {
           "x": 0.05
          },
          "xaxis": {
           "automargin": true,
           "gridcolor": "white",
           "linecolor": "white",
           "ticks": "",
           "title": {
            "standoff": 15
           },
           "zerolinecolor": "white",
           "zerolinewidth": 2
          },
          "yaxis": {
           "automargin": true,
           "gridcolor": "white",
           "linecolor": "white",
           "ticks": "",
           "title": {
            "standoff": 15
           },
           "zerolinecolor": "white",
           "zerolinewidth": 2
          }
         }
        },
        "title": {
         "text": "Confusion Matrix for Best Model"
        },
        "xaxis": {
         "anchor": "y",
         "constrain": "domain",
         "domain": [
          0,
          1
         ],
         "scaleanchor": "y",
         "title": {
          "text": "Predicted Label"
         }
        },
        "yaxis": {
         "anchor": "x",
         "autorange": "reversed",
         "constrain": "domain",
         "domain": [
          0,
          1
         ],
         "title": {
          "text": "True Label"
         }
        }
       }
      }
     },
     "metadata": {},
     "output_type": "display_data"
    }
   ],
   "source": [
    "param_grid = {\n",
    "    'n_estimators': [100, 200],\n",
    "    'max_depth': [None, 10, 20],\n",
    "    'min_samples_split': [2, 5],\n",
    "}\n",
    "from sklearn.model_selection import GridSearchCV\n",
    "grid_search = GridSearchCV(estimator=model2, param_grid=param_grid, cv=5, scoring='recall_macro', n_jobs=-1)\n",
    "grid_search.fit(X_train.drop(columns=['Amount', 'Time']), y_train)\n",
    "print(\"Best parameters found: \", grid_search.best_params_)\n",
    "best_model = grid_search.best_estimator_\n",
    "y_pred_best = best_model.predict(X_test.drop(columns=['Amount', 'Time']))\n",
    "print(classification_report(y_test, y_pred_best))\n",
    "px.imshow(confusion_matrix(y_test, y_pred_best),\n",
    "    labels=dict(x=\"Predicted Label\", y=\"True Label\", color=\"Count\"),\n",
    "    x=[\"Not Fraud\", \"Fraud\"],\n",
    "    y=[\"Not Fraud\", \"Fraud\"],\n",
    "    title=\"Confusion Matrix for Best Model\",\n",
    "    text_auto=True,\n",
    "    color_continuous_scale='Blues'\n",
    ").show()"
   ]
  },
  {
   "cell_type": "code",
   "execution_count": 33,
   "id": "69324d02",
   "metadata": {},
   "outputs": [
    {
     "data": {
      "image/png": "[encoded data removed]",
      "text/plain": [
       "<IPython.core.display.Image object>"
      ]
     },
     "execution_count": 33,
     "metadata": {},
     "output_type": "execute_result"
    }
   ],
   "source": [
    "# Muna please insert image of Cross Validation Score here\n",
    "from IPython.display import Image\n",
    "Image(filename='/Users/munandubisi/Desktop/AI4ALL/E-Commerce-Transaction-Fraud-Detection/Data/cross_val2.png')\n"
   ]
  },
  {
   "cell_type": "code",
   "execution_count": null,
   "id": "5ca3990d",
   "metadata": {},
   "outputs": [],
   "source": []
  }
 ],
 "metadata": {
  "kernelspec": {
   "display_name": "Python 3 (ipykernel)",
   "language": "python",
   "name": "python3"
  },
  "language_info": {
   "codemirror_mode": {
    "name": "ipython",
    "version": 3
   },
   "file_extension": ".py",
   "mimetype": "text/x-python",
   "name": "python",
   "nbconvert_exporter": "python",
   "pygments_lexer": "ipython3",
   "version": "3.10.11"
  }
 },
 "nbformat": 4,
 "nbformat_minor": 5
}
