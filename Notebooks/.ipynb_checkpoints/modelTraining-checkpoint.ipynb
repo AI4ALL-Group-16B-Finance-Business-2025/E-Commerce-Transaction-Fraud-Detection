{
 "cells": [
  {
   "cell_type": "code",
   "execution_count": 1,
   "id": "ee61b8ef-9a90-4ff6-b5b3-8c7d84c9ee6c",
   "metadata": {},
   "outputs": [],
   "source": [
    "# PRE PROCESSING\n",
    "#Feature selection or extraction\n",
    "#Handling missing values or outliers\n",
    "#Encoding categorical variables\n",
    "#Feature scaling or normalization\n",
    "#Saving processed data (optional)"
   ]
  },
  {
   "cell_type": "code",
   "execution_count": null,
   "id": "b5569b38-3ee2-4c62-bc87-207874bdb436",
   "metadata": {},
   "outputs": [],
   "source": [
    "# Train Model"
   ]
  },
  {
   "cell_type": "code",
   "execution_count": null,
   "id": "21bff365-f794-4799-8406-f92273dfb341",
   "metadata": {},
   "outputs": [],
   "source": []
  }
 ],
 "metadata": {
  "kernelspec": {
   "display_name": "Python [conda env:base] *",
   "language": "python",
   "name": "conda-base-py"
  },
  "language_info": {
   "codemirror_mode": {
    "name": "ipython",
    "version": 3
   },
   "file_extension": ".py",
   "mimetype": "text/x-python",
   "name": "python",
   "nbconvert_exporter": "python",
   "pygments_lexer": "ipython3",
   "version": "3.12.7"
  }
 },
 "nbformat": 4,
 "nbformat_minor": 5
}
